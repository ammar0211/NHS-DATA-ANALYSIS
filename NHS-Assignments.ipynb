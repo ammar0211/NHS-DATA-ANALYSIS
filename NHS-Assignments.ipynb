{
  "nbformat": 4,
  "nbformat_minor": 0,
  "metadata": {
    "kernelspec": {
      "display_name": "Python 3",
      "language": "python",
      "name": "python3"
    },
    "language_info": {
      "codemirror_mode": {
        "name": "ipython",
        "version": 3
      },
      "file_extension": ".py",
      "mimetype": "text/x-python",
      "name": "python",
      "nbconvert_exporter": "python",
      "pygments_lexer": "ipython3",
      "version": "3.6.2"
    },
    "nbclean": true,
    "colab": {
      "name": "pw.ipynb",
      "provenance": []
    }
  },
  "cells": [
    {
      "cell_type": "code",
      "metadata": {
        "id": "B2jbSxRcJ7f_",
        "colab_type": "code",
        "colab": {}
      },
      "source": [
        "%matplotlib inline\n",
        "import matplotlib\n",
        "import seaborn as sns\n",
        "matplotlib.rcParams['savefig.dpi'] = 144"
      ],
      "execution_count": 0,
      "outputs": []
    },
    {
      "cell_type": "code",
      "metadata": {
        "id": "6teoK9-KJ7gM",
        "colab_type": "code",
        "colab": {}
      },
      "source": [
        "from static_grader import grader"
      ],
      "execution_count": 0,
      "outputs": []
    },
    {
      "cell_type": "markdown",
      "metadata": {
        "id": "S7lcg8F3J7gV",
        "colab_type": "text"
      },
      "source": [
        "# PW Miniproject\n",
        "## Introduction\n",
        "\n",
        "The objective of this miniproject is to exercise your ability to use basic Python data structures, define functions, and control program flow. We will be using these concepts to perform some fundamental data wrangling tasks such as joining data sets together, splitting data into groups, and aggregating data into summary statistics.\n",
        "**Please do not use `pandas` or `numpy` to answer these questions.**\n",
        "\n",
        "We will be working with medical data from the British NHS on prescription drugs. Since this is real data, it contains many ambiguities that we will need to confront in our analysis. This is commonplace in data science, and is one of the lessons you will learn in this miniproject."
      ]
    },
    {
      "cell_type": "markdown",
      "metadata": {
        "id": "nq3lOx7wJ7gY",
        "colab_type": "text"
      },
      "source": [
        "## Downloading the data\n",
        "\n",
        "We first need to download the data we'll be using from Amazon S3:"
      ]
    },
    {
      "cell_type": "code",
      "metadata": {
        "id": "dBw8ulhoJ7gb",
        "colab_type": "code",
        "colab": {},
        "outputId": "14a89d44-f87f-45b2-c23f-dabc4f44c523"
      },
      "source": [
        "%%bash\n",
        "mkdir pw-data\n",
        "wget http://dataincubator-wqu.s3.amazonaws.com/pwdata/201701scripts_sample.json.gz -nc -P ./pw-data\n",
        "wget http://dataincubator-wqu.s3.amazonaws.com/pwdata/practices.json.gz -nc -P ./pw-data"
      ],
      "execution_count": 0,
      "outputs": [
        {
          "output_type": "stream",
          "text": [
            "--2019-06-11 08:40:33--  http://dataincubator-wqu.s3.amazonaws.com/pwdata/201701scripts_sample.json.gz\n",
            "Resolving dataincubator-wqu.s3.amazonaws.com (dataincubator-wqu.s3.amazonaws.com)... 52.216.138.235\n",
            "Connecting to dataincubator-wqu.s3.amazonaws.com (dataincubator-wqu.s3.amazonaws.com)|52.216.138.235|:80... connected.\n",
            "HTTP request sent, awaiting response... 200 OK\n",
            "Length: 10367709 (9.9M) [application/json]\n",
            "Saving to: ‘./pw-data/201701scripts_sample.json.gz’\n",
            "\n",
            "     0K .......... .......... .......... .......... ..........  0% 24.4M 0s\n",
            "    50K .......... .......... .......... .......... ..........  0% 24.3M 0s\n",
            "   100K .......... .......... .......... .......... ..........  1% 35.1M 0s\n",
            "   150K .......... .......... .......... .......... ..........  1% 34.9M 0s\n",
            "   200K .......... .......... .......... .......... ..........  2% 32.2M 0s\n",
            "   250K .......... .......... .......... .......... ..........  2% 34.6M 0s\n",
            "   300K .......... .......... .......... .......... ..........  3% 41.3M 0s\n",
            "   350K .......... .......... .......... .......... ..........  3% 41.6M 0s\n",
            "   400K .......... .......... .......... .......... ..........  4% 36.8M 0s\n",
            "   450K .......... .......... .......... .......... ..........  4% 40.3M 0s\n",
            "   500K .......... .......... .......... .......... ..........  5% 57.3M 0s\n",
            "   550K .......... .......... .......... .......... ..........  5% 49.6M 0s\n",
            "   600K .......... .......... .......... .......... ..........  6% 42.3M 0s\n",
            "   650K .......... .......... .......... .......... ..........  6% 36.7M 0s\n",
            "   700K .......... .......... .......... .......... ..........  7% 89.4M 0s\n",
            "   750K .......... .......... .......... .......... ..........  7% 45.2M 0s\n",
            "   800K .......... .......... .......... .......... ..........  8% 31.4M 0s\n",
            "   850K .......... .......... .......... .......... ..........  8%  114M 0s\n",
            "   900K .......... .......... .......... .......... ..........  9% 53.7M 0s\n",
            "   950K .......... .......... .......... .......... ..........  9% 72.6M 0s\n",
            "  1000K .......... .......... .......... .......... .......... 10% 40.2M 0s\n",
            "  1050K .......... .......... .......... .......... .......... 10%  180M 0s\n",
            "  1100K .......... .......... .......... .......... .......... 11% 34.3M 0s\n",
            "  1150K .......... .......... .......... .......... .......... 11% 82.8M 0s\n",
            "  1200K .......... .......... .......... .......... .......... 12%  105M 0s\n",
            "  1250K .......... .......... .......... .......... .......... 12% 33.9M 0s\n",
            "  1300K .......... .......... .......... .......... .......... 13%  215M 0s\n",
            "  1350K .......... .......... .......... .......... .......... 13% 93.8M 0s\n",
            "  1400K .......... .......... .......... .......... .......... 14% 29.7M 0s\n",
            "  1450K .......... .......... .......... .......... .......... 14%  130M 0s\n",
            "  1500K .......... .......... .......... .......... .......... 15%  173M 0s\n",
            "  1550K .......... .......... .......... .......... .......... 15% 42.0M 0s\n",
            "  1600K .......... .......... .......... .......... .......... 16% 27.9M 0s\n",
            "  1650K .......... .......... .......... .......... .......... 16%  147M 0s\n",
            "  1700K .......... .......... .......... .......... .......... 17%  207M 0s\n",
            "  1750K .......... .......... .......... .......... .......... 17% 37.1M 0s\n",
            "  1800K .......... .......... .......... .......... .......... 18% 28.8M 0s\n",
            "  1850K .......... .......... .......... .......... .......... 18%  161M 0s\n",
            "  1900K .......... .......... .......... .......... .......... 19% 34.8M 0s\n",
            "  1950K .......... .......... .......... .......... .......... 19%  207M 0s\n",
            "  2000K .......... .......... .......... .......... .......... 20% 98.6M 0s\n",
            "  2050K .......... .......... .......... .......... .......... 20% 39.8M 0s\n",
            "  2100K .......... .......... .......... .......... .......... 21%  285M 0s\n",
            "  2150K .......... .......... .......... .......... .......... 21%  222M 0s\n",
            "  2200K .......... .......... .......... .......... .......... 22% 98.6M 0s\n",
            "  2250K .......... .......... .......... .......... .......... 22% 25.0M 0s\n",
            "  2300K .......... .......... .......... .......... .......... 23%  163M 0s\n",
            "  2350K .......... .......... .......... .......... .......... 23%  236M 0s\n",
            "  2400K .......... .......... .......... .......... .......... 24% 39.3M 0s\n",
            "  2450K .......... .......... .......... .......... .......... 24% 26.0M 0s\n",
            "  2500K .......... .......... .......... .......... .......... 25%  158M 0s\n",
            "  2550K .......... .......... .......... .......... .......... 25%  153M 0s\n",
            "  2600K .......... .......... .......... .......... .......... 26%  119M 0s\n",
            "  2650K .......... .......... .......... .......... .......... 26% 25.1M 0s\n",
            "  2700K .......... .......... .......... .......... .......... 27% 26.7M 0s\n",
            "  2750K .......... .......... .......... .......... .......... 27%  156M 0s\n",
            "  2800K .......... .......... .......... .......... .......... 28%  367M 0s\n",
            "  2850K .......... .......... .......... .......... .......... 28%  361M 0s\n",
            "  2900K .......... .......... .......... .......... .......... 29%  383M 0s\n",
            "  2950K .......... .......... .......... .......... .......... 29% 26.2M 0s\n",
            "  3000K .......... .......... .......... .......... .......... 30% 31.1M 0s\n",
            "  3050K .......... .......... .......... .......... .......... 30% 53.7M 0s\n",
            "  3100K .......... .......... .......... .......... .......... 31% 36.7M 0s\n",
            "  3150K .......... .......... .......... .......... .......... 31% 66.7M 0s\n",
            "  3200K .......... .......... .......... .......... .......... 32%  167M 0s\n",
            "  3250K .......... .......... .......... .......... .......... 32% 77.7M 0s\n",
            "  3300K .......... .......... .......... .......... .......... 33% 18.4M 0s\n",
            "  3350K .......... .......... .......... .......... .......... 33% 34.7M 0s\n",
            "  3400K .......... .......... .......... .......... .......... 34% 39.2M 0s\n",
            "  3450K .......... .......... .......... .......... .......... 34%  149M 0s\n",
            "  3500K .......... .......... .......... .......... .......... 35% 45.9M 0s\n",
            "  3550K .......... .......... .......... .......... .......... 35%  157M 0s\n",
            "  3600K .......... .......... .......... .......... .......... 36%  232M 0s\n",
            "  3650K .......... .......... .......... .......... .......... 36%  422M 0s\n",
            "  3700K .......... .......... .......... .......... .......... 37% 27.3M 0s\n",
            "  3750K .......... .......... .......... .......... .......... 37% 26.0M 0s\n",
            "  3800K .......... .......... .......... .......... .......... 38% 68.2M 0s\n",
            "  3850K .......... .......... .......... .......... .......... 38%  100M 0s\n",
            "  3900K .......... .......... .......... .......... .......... 39%  421M 0s\n",
            "  3950K .......... .......... .......... .......... .......... 39%  334M 0s\n",
            "  4000K .......... .......... .......... .......... .......... 40%  427M 0s\n",
            "  4050K .......... .......... .......... .......... .......... 40%  151M 0s\n",
            "  4100K .......... .......... .......... .......... .......... 40%  164M 0s\n",
            "  4150K .......... .......... .......... .......... .......... 41% 34.0M 0s\n",
            "  4200K .......... .......... .......... .......... .......... 41% 24.3M 0s\n",
            "  4250K .......... .......... .......... .......... .......... 42% 21.8M 0s\n",
            "  4300K .......... .......... .......... .......... .......... 42%  113M 0s\n",
            "  4350K .......... .......... .......... .......... .......... 43%  154M 0s\n",
            "  4400K .......... .......... .......... .......... .......... 43%  196M 0s\n",
            "  4450K .......... .......... .......... .......... .......... 44%  213M 0s\n",
            "  4500K .......... .......... .......... .......... .......... 44% 43.6M 0s\n",
            "  4550K .......... .......... .......... .......... .......... 45% 20.5M 0s\n",
            "  4600K .......... .......... .......... .......... .......... 45% 37.4M 0s\n",
            "  4650K .......... .......... .......... .......... .......... 46%  346M 0s\n",
            "  4700K .......... .......... .......... .......... .......... 46%  449M 0s\n",
            "  4750K .......... .......... .......... .......... .......... 47%  334M 0s\n",
            "  4800K .......... .......... .......... .......... .......... 47%  410M 0s\n",
            "  4850K .......... .......... .......... .......... .......... 48%  424M 0s\n",
            "  4900K .......... .......... .......... .......... .......... 48%  106M 0s\n",
            "  4950K .......... .......... .......... .......... .......... 49% 22.9M 0s\n",
            "  5000K .......... .......... .......... .......... .......... 49%  160M 0s\n",
            "  5050K .......... .......... .......... .......... .......... 50% 27.3M 0s\n",
            "  5100K .......... .......... .......... .......... .......... 50%  103M 0s\n",
            "  5150K .......... .......... .......... .......... .......... 51% 24.2M 0s\n",
            "  5200K .......... .......... .......... .......... .......... 51%  142M 0s\n",
            "  5250K .......... .......... .......... .......... .......... 52% 30.2M 0s\n",
            "  5300K .......... .......... .......... .......... .......... 52%  151M 0s\n",
            "  5350K .......... .......... .......... .......... .......... 53%  134M 0s\n",
            "  5400K .......... .......... .......... .......... .......... 53% 71.5M 0s\n",
            "  5450K .......... .......... .......... .......... .......... 54% 24.9M 0s\n",
            "  5500K .......... .......... .......... .......... .......... 54%  203M 0s\n",
            "  5550K .......... .......... .......... .......... .......... 55%  317M 0s\n",
            "  5600K .......... .......... .......... .......... .......... 55%  406M 0s\n",
            "  5650K .......... .......... .......... .......... .......... 56% 93.6M 0s\n",
            "  5700K .......... .......... .......... .......... .......... 56% 31.5M 0s\n",
            "  5750K .......... .......... .......... .......... .......... 57%  134M 0s\n",
            "  5800K .......... .......... .......... .......... .......... 57%  170M 0s\n",
            "  5850K .......... .......... .......... .......... .......... 58%  243M 0s\n",
            "  5900K .......... .......... .......... .......... .......... 58% 50.3M 0s\n",
            "  5950K .......... .......... .......... .......... .......... 59% 19.1M 0s\n",
            "  6000K .......... .......... .......... .......... .......... 59% 83.3M 0s\n",
            "  6050K .......... .......... .......... .......... .......... 60% 42.5M 0s\n",
            "  6100K .......... .......... .......... .......... .......... 60% 50.8M 0s\n",
            "  6150K .......... .......... .......... .......... .......... 61%  153M 0s\n",
            "  6200K .......... .......... .......... .......... .......... 61% 29.5M 0s\n",
            "  6250K .......... .......... .......... .......... .......... 62% 59.3M 0s\n",
            "  6300K .......... .......... .......... .......... .......... 62%  362M 0s\n",
            "  6350K .......... .......... .......... .......... .......... 63%  341M 0s\n",
            "  6400K .......... .......... .......... .......... .......... 63%  431M 0s\n",
            "  6450K .......... .......... .......... .......... .......... 64%  437M 0s\n",
            "  6500K .......... .......... .......... .......... .......... 64%  372M 0s\n",
            "  6550K .......... .......... .......... .......... .......... 65%  361M 0s\n",
            "  6600K .......... .......... .......... .......... .......... 65%  432M 0s\n",
            "  6650K .......... .......... .......... .......... .......... 66%  423M 0s\n",
            "  6700K .......... .......... .......... .......... .......... 66% 38.6M 0s\n",
            "  6750K .......... .......... .......... .......... .......... 67% 17.3M 0s\n",
            "  6800K .......... .......... .......... .......... .......... 67% 50.5M 0s\n",
            "  6850K .......... .......... .......... .......... .......... 68%  431M 0s\n",
            "  6900K .......... .......... .......... .......... .......... 68%  456M 0s\n",
            "  6950K .......... .......... .......... .......... .......... 69%  393M 0s\n",
            "  7000K .......... .......... .......... .......... .......... 69%  450M 0s\n",
            "  7050K .......... .......... .......... .......... .......... 70% 12.8M 0s\n",
            "  7100K .......... .......... .......... .......... .......... 70% 51.1M 0s\n",
            "  7150K .......... .......... .......... .......... .......... 71% 44.3M 0s\n",
            "  7200K .......... .......... .......... .......... .......... 71%  167M 0s\n",
            "  7250K .......... .......... .......... .......... .......... 72%  184M 0s\n",
            "  7300K .......... .......... .......... .......... .......... 72% 23.1M 0s\n",
            "  7350K .......... .......... .......... .......... .......... 73% 91.2M 0s\n",
            "  7400K .......... .......... .......... .......... .......... 73% 28.4M 0s\n",
            "  7450K .......... .......... .......... .......... .......... 74%  194M 0s\n",
            "  7500K .......... .......... .......... .......... .......... 74%  154M 0s\n",
            "  7550K .......... .......... .......... .......... .......... 75%  229M 0s\n",
            "  7600K .......... .......... .......... .......... .......... 75%  182M 0s\n",
            "  7650K .......... .......... .......... .......... .......... 76%  237M 0s\n",
            "  7700K .......... .......... .......... .......... .......... 76% 26.9M 0s\n",
            "  7750K .......... .......... .......... .......... .......... 77% 21.0M 0s\n",
            "  7800K .......... .......... .......... .......... .......... 77% 29.0M 0s\n",
            "  7850K .......... .......... .......... .......... .......... 78%  141M 0s\n",
            "  7900K .......... .......... .......... .......... .......... 78% 25.3M 0s\n",
            "  7950K .......... .......... .......... .......... .......... 79% 83.8M 0s\n",
            "  8000K .......... .......... .......... .......... .......... 79% 34.8M 0s\n",
            "  8050K .......... .......... .......... .......... .......... 80% 72.4M 0s\n",
            "  8100K .......... .......... .......... .......... .......... 80% 31.9M 0s\n",
            "  8150K .......... .......... .......... .......... .......... 80% 74.9M 0s\n",
            "  8200K .......... .......... .......... .......... .......... 81% 34.8M 0s\n",
            "  8250K .......... .......... .......... .......... .......... 81%  287M 0s\n",
            "  8300K .......... .......... .......... .......... .......... 82%  332M 0s\n",
            "  8350K .......... .......... .......... .......... .......... 82% 49.1M 0s\n",
            "  8400K .......... .......... .......... .......... .......... 83% 25.1M 0s\n",
            "  8450K .......... .......... .......... .......... .......... 83% 47.7M 0s\n",
            "  8500K .......... .......... .......... .......... .......... 84%  151M 0s\n",
            "  8550K .......... .......... .......... .......... .......... 84% 25.2M 0s\n",
            "  8600K .......... .......... .......... .......... .......... 85% 99.1M 0s\n",
            "  8650K .......... .......... .......... .......... .......... 85%  353M 0s\n",
            "  8700K .......... .......... .......... .......... .......... 86%  353M 0s\n",
            "  8750K .......... .......... .......... .......... .......... 86%  406M 0s\n",
            "  8800K .......... .......... .......... .......... .......... 87%  426M 0s\n",
            "  8850K .......... .......... .......... .......... .......... 87%  386M 0s\n",
            "  8900K .......... .......... .......... .......... .......... 88%  349M 0s\n",
            "  8950K .......... .......... .......... .......... .......... 88%  405M 0s\n",
            "  9000K .......... .......... .......... .......... .......... 89%  420M 0s\n",
            "  9050K .......... .......... .......... .......... .......... 89%  440M 0s\n",
            "  9100K .......... .......... .......... .......... .......... 90% 36.0M 0s\n",
            "  9150K .......... .......... .......... .......... .......... 90% 17.9M 0s\n",
            "  9200K .......... .......... .......... .......... .......... 91% 28.7M 0s\n",
            "  9250K .......... .......... .......... .......... .......... 91%  233M 0s\n",
            "  9300K .......... .......... .......... .......... .......... 92%  179M 0s\n",
            "  9350K .......... .......... .......... .......... .......... 92%  202M 0s\n",
            "  9400K .......... .......... .......... .......... .......... 93% 22.1M 0s\n",
            "  9450K .......... .......... .......... .......... .......... 93% 33.9M 0s\n",
            "  9500K .......... .......... .......... .......... .......... 94%  148M 0s\n",
            "  9550K .......... .......... .......... .......... .......... 94% 63.9M 0s\n",
            "  9600K .......... .......... .......... .......... .......... 95% 22.2M 0s\n",
            "  9650K .......... .......... .......... .......... .......... 95%  168M 0s\n",
            "  9700K .......... .......... .......... .......... .......... 96%  245M 0s\n",
            "  9750K .......... .......... .......... .......... .......... 96%  429M 0s\n",
            "  9800K .......... .......... .......... .......... .......... 97%  344M 0s\n",
            "  9850K .......... .......... .......... .......... .......... 97%  432M 0s\n",
            "  9900K .......... .......... .......... .......... .......... 98%  407M 0s\n",
            "  9950K .......... .......... .......... .......... .......... 98%  420M 0s\n",
            " 10000K .......... .......... .......... .......... .......... 99%  333M 0s\n",
            " 10050K .......... .......... .......... .......... .......... 99%  447M 0s\n",
            " 10100K .......... .......... ....                            100%  381M=0.2s\n",
            "\n",
            "2019-06-11 08:40:34 (58.7 MB/s) - ‘./pw-data/201701scripts_sample.json.gz’ saved [10367709/10367709]\n",
            "\n",
            "--2019-06-11 08:40:34--  http://dataincubator-wqu.s3.amazonaws.com/pwdata/practices.json.gz\n",
            "Resolving dataincubator-wqu.s3.amazonaws.com (dataincubator-wqu.s3.amazonaws.com)... 52.216.179.91\n",
            "Connecting to dataincubator-wqu.s3.amazonaws.com (dataincubator-wqu.s3.amazonaws.com)|52.216.179.91|:80... connected.\n",
            "HTTP request sent, awaiting response... 200 OK\n",
            "Length: 402461 (393K) [application/json]\n",
            "Saving to: ‘./pw-data/practices.json.gz’\n",
            "\n",
            "     0K .......... .......... .......... .......... .......... 12% 33.6M 0s\n",
            "    50K .......... .......... .......... .......... .......... 25% 28.5M 0s\n",
            "   100K .......... .......... .......... .......... .......... 38% 39.9M 0s\n",
            "   150K .......... .......... .......... .......... .......... 50% 31.0M 0s\n",
            "   200K .......... .......... .......... .......... .......... 63% 93.3M 0s\n",
            "   250K .......... .......... .......... .......... .......... 76%  368M 0s\n",
            "   300K .......... .......... .......... .......... .......... 89% 35.2M 0s\n",
            "   350K .......... .......... .......... .......... ...       100%  114M=0.008s\n",
            "\n",
            "2019-06-11 08:40:34 (45.8 MB/s) - ‘./pw-data/practices.json.gz’ saved [402461/402461]\n",
            "\n"
          ],
          "name": "stderr"
        }
      ]
    },
    {
      "cell_type": "markdown",
      "metadata": {
        "id": "zLpftv6ZJ7gj",
        "colab_type": "text"
      },
      "source": [
        "## Loading the data\n",
        "\n",
        "The first step of the project is to read in the data. We will discuss reading and writing various kinds of files later in the course, but the code below should get you started."
      ]
    },
    {
      "cell_type": "code",
      "metadata": {
        "id": "KdlJBcKCJ7gl",
        "colab_type": "code",
        "colab": {}
      },
      "source": [
        "import gzip\n",
        "import simplejson as json"
      ],
      "execution_count": 0,
      "outputs": []
    },
    {
      "cell_type": "code",
      "metadata": {
        "id": "E233gUtCJ7gt",
        "colab_type": "code",
        "colab": {}
      },
      "source": [
        "with gzip.open('./pw-data/201701scripts_sample.json.gz', 'rb') as f:\n",
        "    scripts = json.load(f)\n",
        "\n",
        "with gzip.open('./pw-data/practices.json.gz', 'rb') as f:\n",
        "    practices = json.load(f)"
      ],
      "execution_count": 0,
      "outputs": []
    },
    {
      "cell_type": "markdown",
      "metadata": {
        "id": "8x1G-1xfJ7gz",
        "colab_type": "text"
      },
      "source": [
        "This data set comes from Britain's National Health Service. The `scripts` variable is a list of prescriptions issued by NHS doctors. Each prescription is represented by a dictionary with various data fields: `'practice'`, `'bnf_code'`, `'bnf_name'`, `'quantity'`, `'items'`, `'nic'`, and `'act_cost'`. "
      ]
    },
    {
      "cell_type": "code",
      "metadata": {
        "id": "JOWHSZ63J7g1",
        "colab_type": "code",
        "colab": {},
        "outputId": "7a4cc034-afa1-4538-ff20-74dcc9cae1bb"
      },
      "source": [
        "scripts[:2]"
      ],
      "execution_count": 0,
      "outputs": [
        {
          "output_type": "execute_result",
          "data": {
            "text/plain": [
              "[{'bnf_code': '0101010G0AAABAB',\n",
              "  'items': 2,\n",
              "  'practice': 'N81013',\n",
              "  'bnf_name': 'Co-Magaldrox_Susp 195mg/220mg/5ml S/F',\n",
              "  'nic': 5.98,\n",
              "  'act_cost': 5.56,\n",
              "  'quantity': 1000},\n",
              " {'bnf_code': '0101021B0AAAHAH',\n",
              "  'items': 1,\n",
              "  'practice': 'N81013',\n",
              "  'bnf_name': 'Alginate_Raft-Forming Oral Susp S/F',\n",
              "  'nic': 1.95,\n",
              "  'act_cost': 1.82,\n",
              "  'quantity': 500}]"
            ]
          },
          "metadata": {
            "tags": []
          },
          "execution_count": 5
        }
      ]
    },
    {
      "cell_type": "markdown",
      "metadata": {
        "id": "_8ZJuktbJ7g9",
        "colab_type": "text"
      },
      "source": [
        "A [glossary of terms](http://webarchive.nationalarchives.gov.uk/20180328130852tf_/http://content.digital.nhs.uk/media/10686/Download-glossary-of-terms-for-GP-prescribing---presentation-level/pdf/PLP_Presentation_Level_Glossary_April_2015.pdf/) and [FAQ](http://webarchive.nationalarchives.gov.uk/20180328130852tf_/http://content.digital.nhs.uk/media/10048/FAQs-Practice-Level-Prescribingpdf/pdf/PLP_FAQs_April_2015.pdf/) is available from the NHS regarding the data. Below we supply a data dictionary briefly describing what these fields mean.\n",
        "\n",
        "| Data field |Description|\n",
        "|:----------:|-----------|\n",
        "|`'practice'`|Code designating the medical practice issuing the prescription|\n",
        "|`'bnf_code'`|British National Formulary drug code|\n",
        "|`'bnf_name'`|British National Formulary drug name|\n",
        "|`'quantity'`|Number of capsules/quantity of liquid/grams of powder prescribed|\n",
        "| `'items'`  |Number of refills (e.g. if `'quantity'` is 30 capsules, 3 `'items'` means 3 bottles of 30 capsules)|\n",
        "|  `'nic'`   |Net ingredient cost|\n",
        "|`'act_cost'`|Total cost including containers, fees, and discounts|"
      ]
    },
    {
      "cell_type": "markdown",
      "metadata": {
        "id": "yhMxDd0yJ7hA",
        "colab_type": "text"
      },
      "source": [
        "The `practices` variable is a list of member medical practices of the NHS. Each practice is represented by a dictionary containing identifying information for the medical practice. Most of the data fields are self-explanatory. Notice the values in the `'code'` field of `practices` match the values in the `'practice'` field of `scripts`."
      ]
    },
    {
      "cell_type": "code",
      "metadata": {
        "id": "yT-l8gLuJ7hC",
        "colab_type": "code",
        "colab": {},
        "outputId": "00cd416e-956b-4895-d256-6e4b520e33a4"
      },
      "source": [
        "practices[:2]"
      ],
      "execution_count": 0,
      "outputs": [
        {
          "output_type": "execute_result",
          "data": {
            "text/plain": [
              "[{'code': 'A81001',\n",
              "  'name': 'THE DENSHAM SURGERY',\n",
              "  'addr_1': 'THE HEALTH CENTRE',\n",
              "  'addr_2': 'LAWSON STREET',\n",
              "  'borough': 'STOCKTON ON TEES',\n",
              "  'village': 'CLEVELAND',\n",
              "  'post_code': 'TS18 1HU'},\n",
              " {'code': 'A81002',\n",
              "  'name': 'QUEENS PARK MEDICAL CENTRE',\n",
              "  'addr_1': 'QUEENS PARK MEDICAL CTR',\n",
              "  'addr_2': 'FARRER STREET',\n",
              "  'borough': 'STOCKTON ON TEES',\n",
              "  'village': 'CLEVELAND',\n",
              "  'post_code': 'TS18 2AW'}]"
            ]
          },
          "metadata": {
            "tags": []
          },
          "execution_count": 6
        }
      ]
    },
    {
      "cell_type": "markdown",
      "metadata": {
        "id": "Z2Z2U-BMJ7hH",
        "colab_type": "text"
      },
      "source": [
        "In the following questions we will ask you to explore this data set. You may need to combine pieces of the data set together in order to answer some questions. Not every element of the data set will be used in answering the questions."
      ]
    },
    {
      "cell_type": "markdown",
      "metadata": {
        "id": "ijGsFCGMJ7hK",
        "colab_type": "text"
      },
      "source": [
        "## Question 1: summary_statistics\n",
        "\n",
        "Our beneficiary data (`scripts`) contains quantitative data on the number of items dispensed (`'items'`), the total quantity of item dispensed (`'quantity'`), the net cost of the ingredients (`'nic'`), and the actual cost to the patient (`'act_cost'`). Whenever working with a new data set, it can be useful to calculate summary statistics to develop a feeling for the volume and character of the data. This makes it easier to spot trends and significant features during further stages of analysis.\n",
        "\n",
        "Calculate the sum, mean, standard deviation, and quartile statistics for each of these quantities. Format your results for each quantity as a list: `[sum, mean, standard deviation, 1st quartile, median, 3rd quartile]`. We'll create a `tuple` with these lists for each quantity as a final result."
      ]
    },
    {
      "cell_type": "code",
      "metadata": {
        "id": "zcK3CeXIJ7hM",
        "colab_type": "code",
        "colab": {}
      },
      "source": [
        "import math\n",
        "def describe(key):\n",
        "    ctr=0\n",
        "    l=[]\n",
        "    total=0\n",
        "    var=0\n",
        "    for i in scripts:\n",
        "        l.append(i[key])\n",
        "        total+=i[key]\n",
        "        ctr+=1\n",
        "    avg = total/ctr\n",
        "    for i in scripts:\n",
        "        var+=(avg-i[key])**2\n",
        "    s = (var/ctr)**0.5\n",
        "    l.sort()\n",
        "    med = l[math.floor(ctr/2)]\n",
        "    q25 = l[math.floor(ctr/4)]\n",
        "    q75 = l[math.floor(ctr*3/4)]\n",
        "\n",
        "    return (total, avg, s, q25, med, q75)"
      ],
      "execution_count": 0,
      "outputs": []
    },
    {
      "cell_type": "code",
      "metadata": {
        "id": "Xp8H1ZGgJ7hT",
        "colab_type": "code",
        "colab": {}
      },
      "source": [
        "summary = [('items', describe('items')),\n",
        "           ('quantity', describe('quantity')),\n",
        "           ('nic', describe('nic')),\n",
        "           ('act_cost', describe('act_cost'))]"
      ],
      "execution_count": 0,
      "outputs": []
    },
    {
      "cell_type": "code",
      "metadata": {
        "id": "OZp9RnuMJ7hY",
        "colab_type": "code",
        "colab": {},
        "outputId": "1d6d6cf0-c5ed-472a-eae1-864a53ac3b14"
      },
      "source": [
        "print (summary[0][1][0])"
      ],
      "execution_count": 0,
      "outputs": [
        {
          "output_type": "stream",
          "text": [
            "4410054\n"
          ],
          "name": "stdout"
        }
      ]
    },
    {
      "cell_type": "code",
      "metadata": {
        "id": "__-RrkFcJ7he",
        "colab_type": "code",
        "colab": {},
        "outputId": "6dbdebea-8e5b-4b50-9baa-4e2099692e52"
      },
      "source": [
        "grader.score.pw__summary_statistics(summary)"
      ],
      "execution_count": 0,
      "outputs": [
        {
          "output_type": "stream",
          "text": [
            "==================\n",
            "Your score:  1.0\n",
            "==================\n"
          ],
          "name": "stdout"
        }
      ]
    },
    {
      "cell_type": "markdown",
      "metadata": {
        "id": "bsHfV5zIJ7hj",
        "colab_type": "text"
      },
      "source": [
        "## Question 2: most_common_item\n",
        "\n",
        "Often we are not interested only in how the data is distributed in our entire data set, but within particular groups -- for example, how many items of each drug (i.e. `'bnf_name'`) were prescribed? Calculate the total items prescribed for each `'bnf_name'`. What is the most commonly prescribed `'bnf_name'` in our data?\n",
        "\n",
        "To calculate this, we first need to split our data set into groups corresponding with the different values of `'bnf_name'`. Then we can sum the number of items dispensed within in each group. Finally we can find the largest sum.\n",
        "\n",
        "We'll use `'bnf_name'` to construct our groups. You should have *5619* unique values for `'bnf_name'`."
      ]
    },
    {
      "cell_type": "code",
      "metadata": {
        "id": "oT3rLan0J7hm",
        "colab_type": "code",
        "colab": {}
      },
      "source": [
        "bnf_names = {}\n",
        "\n",
        "for i in scripts:\n",
        "    key=i['bnf_name']\n",
        "    if key in bnf_names:\n",
        "        bnf_names[key].append(i)\n",
        "    else:\n",
        "        bnf_names[key]=[i]\n",
        "assert(len(bnf_names) == 5619)"
      ],
      "execution_count": 0,
      "outputs": []
    },
    {
      "cell_type": "markdown",
      "metadata": {
        "id": "iQ2yxtx1J7hr",
        "colab_type": "text"
      },
      "source": [
        "We want to construct \"groups\" identified by `'bnf_name'`, where each group is a collection of prescriptions (i.e. dictionaries from `scripts`). We'll construct a dictionary called `groups`, using `bnf_names` as the keys. We'll represent a group with a `list`, since we can easily append new members to the group. To split our `scripts` into groups by `'bnf_name'`, we should iterate over `scripts`, appending prescription dictionaries to each group as we encounter them."
      ]
    },
    {
      "cell_type": "code",
      "metadata": {
        "id": "m6XVhSK3J7ht",
        "colab_type": "code",
        "colab": {}
      },
      "source": [
        "\"\"\"groups = {name: [] for name in bnf_names}\n",
        "for script in scripts:\n",
        "    groups[script['bnf_name']].append(script)  \"\"\"\n",
        "groups=bnf_names"
      ],
      "execution_count": 0,
      "outputs": []
    },
    {
      "cell_type": "markdown",
      "metadata": {
        "id": "56dDLeyjJ7hz",
        "colab_type": "text"
      },
      "source": [
        "Now that we've constructed our groups we should sum up `'items'` in each group and find the `'bnf_name'` with the largest sum. The result, `max_item`, should have the form `[(bnf_name, item total)]`, e.g. `[('Foobar', 2000)]`."
      ]
    },
    {
      "cell_type": "code",
      "metadata": {
        "id": "29jKwh5pJ7h1",
        "colab_type": "code",
        "colab": {}
      },
      "source": [
        "item=[]\n",
        "for i in groups.keys():\n",
        "    sum1=0\n",
        "    for j in groups[i]:\n",
        "        sum1+=j['items']\n",
        "    item.append((sum1,i))\n",
        "max_item = [max(item)[::-1]]"
      ],
      "execution_count": 0,
      "outputs": []
    },
    {
      "cell_type": "code",
      "metadata": {
        "id": "q_WncwSyJ7h5",
        "colab_type": "code",
        "colab": {},
        "outputId": "6a8302c6-1c3b-4fc7-99f2-361137bd1a52"
      },
      "source": [
        "item[:10]"
      ],
      "execution_count": 0,
      "outputs": [
        {
          "output_type": "execute_result",
          "data": {
            "text/plain": [
              "[(86, 'Co-Magaldrox_Susp 195mg/220mg/5ml S/F'),\n",
              " (392, 'Alginate_Raft-Forming Oral Susp S/F'),\n",
              " (2636, 'Sod Algin/Pot Bicarb_Susp S/F'),\n",
              " (200, 'Sod Alginate/Pot Bicarb_Tab Chble 500mg'),\n",
              " (1978, 'Gaviscon Infant_Sach 2g (Dual Pack) S/F'),\n",
              " (5568, 'Gaviscon Advance_Liq (Aniseed) (Reckitt)'),\n",
              " (1078, 'Gaviscon Advance_Tab Chble Mint(Reckitt)'),\n",
              " (3443, 'Gaviscon Advance_Liq (Peppermint) S/F'),\n",
              " (3162, 'Peptac_Liq (Peppermint) S/F'),\n",
              " (776, 'Alverine Cit_Cap 60mg')]"
            ]
          },
          "metadata": {
            "tags": []
          },
          "execution_count": 33
        }
      ]
    },
    {
      "cell_type": "markdown",
      "metadata": {
        "id": "kQsxeZK9J7iA",
        "colab_type": "text"
      },
      "source": [
        "**TIP:** If you are getting an error from the grader below, please make sure your answer conforms to the correct format of `[(bnf_name, item total)]`."
      ]
    },
    {
      "cell_type": "code",
      "metadata": {
        "id": "E9cf_SOeJ7iC",
        "colab_type": "code",
        "colab": {},
        "outputId": "62978f26-409b-40ec-d2c6-2f9c538cb190"
      },
      "source": [
        "grader.score.pw__most_common_item(max_item)"
      ],
      "execution_count": 0,
      "outputs": [
        {
          "output_type": "stream",
          "text": [
            "==================\n",
            "Your score:  1.0\n",
            "==================\n"
          ],
          "name": "stdout"
        }
      ]
    },
    {
      "cell_type": "markdown",
      "metadata": {
        "id": "PKgTdvh7J7iH",
        "colab_type": "text"
      },
      "source": [
        "**Challenge:** Write a function that constructs groups as we did above. The function should accept a list of dictionaries (e.g. `scripts` or `practices`) and a tuple of fields to `groupby` (e.g. `('bnf_name')` or `('bnf_name', 'post_code')`) and returns a dictionary of groups. The following questions will require you to aggregate data in groups, so this could be a useful function for the rest of the miniproject."
      ]
    },
    {
      "cell_type": "code",
      "metadata": {
        "id": "ABYNzUrcJ7iJ",
        "colab_type": "code",
        "colab": {}
      },
      "source": [
        "def group_by_field(data, fields):\n",
        "    groups_dic={}\n",
        "    for field in fields:\n",
        "        groups = {}\n",
        "        for i in data:\n",
        "            key=i['%s'%(field)]\n",
        "            if key in groups:\n",
        "                groups[key].append(i)\n",
        "            else:\n",
        "                groups[key]=[i]\n",
        "        groups_dic['%s'%(field)]=groups\n",
        "    return groups_dic"
      ],
      "execution_count": 0,
      "outputs": []
    },
    {
      "cell_type": "code",
      "metadata": {
        "id": "l3VuXM7BJ7iR",
        "colab_type": "code",
        "colab": {}
      },
      "source": [
        "groups = group_by_field(scripts, ('bnf_name',))\n",
        "item=[]\n",
        "for k in groups.keys():\n",
        "    for i in groups[k].keys():\n",
        "        sum1=0\n",
        "        for j in groups[k][i]:\n",
        "            sum1+=j['items']\n",
        "        item.append((sum1,i))\n",
        "    test_max_item = [max(item)[::-1]]\n",
        "\n",
        "\n",
        "assert test_max_item == max_item"
      ],
      "execution_count": 0,
      "outputs": []
    },
    {
      "cell_type": "markdown",
      "metadata": {
        "id": "iI7XCJASJ7iX",
        "colab_type": "text"
      },
      "source": [
        "## Question 3: postal_totals\n",
        "\n",
        "Our data set is broken up among different files. This is typical for tabular data to reduce redundancy. Each table typically contains data about a particular type of event, processes, or physical object. Data on prescriptions and medical practices are in separate files in our case. If we want to find the total items prescribed in each postal code, we will have to _join_ our prescription data (`scripts`) to our clinic data (`practices`).\n",
        "\n",
        "Find the total items prescribed in each postal code, representing the results as a list of tuples `(post code, total items prescribed)`. Sort your results ascending alphabetically by post code and take only results from the first 100 post codes. Only include post codes if there is at least one prescription from a practice in that post code.\n",
        "\n",
        "**NOTE:** Some practices have multiple postal codes associated with them. Use the alphabetically first postal code."
      ]
    },
    {
      "cell_type": "markdown",
      "metadata": {
        "id": "wlyZ7bNAJ7iY",
        "colab_type": "text"
      },
      "source": [
        "We can join `scripts` and `practices` based on the fact that `'practice'` in `scripts` matches `'code'` in `practices'`. However, we must first deal with the repeated values of `'code'` in `practices`. We want the alphabetically first postal codes."
      ]
    },
    {
      "cell_type": "code",
      "metadata": {
        "id": "PJS3T2SrJ7ib",
        "colab_type": "code",
        "colab": {}
      },
      "source": [
        "practice_postal = {}\n",
        "for practice in practices:\n",
        "    if practice['code'] in practice_postal:\n",
        "        if (practice_postal[practice['code']]>practice['post_code']):\n",
        "            practice_postal[practice['code']]=practice['post_code']\n",
        "    else:\n",
        "        practice_postal[practice['code']] = practice['post_code']"
      ],
      "execution_count": 0,
      "outputs": []
    },
    {
      "cell_type": "markdown",
      "metadata": {
        "id": "0mbITsE2J7ij",
        "colab_type": "text"
      },
      "source": [
        "**Challenge:** This is an aggregation of the practice data grouped by practice codes. Write an alternative implementation of the above cell using the `group_by_field` function you defined previously."
      ]
    },
    {
      "cell_type": "code",
      "metadata": {
        "id": "4Bv4mcH8J7il",
        "colab_type": "code",
        "colab": {}
      },
      "source": [
        "assert practice_postal['K82019'] == 'HP21 8TR'"
      ],
      "execution_count": 0,
      "outputs": []
    },
    {
      "cell_type": "markdown",
      "metadata": {
        "id": "3_6liEVWJ7ip",
        "colab_type": "text"
      },
      "source": [
        "**Challenge:** This is an aggregation of the practice data grouped by practice codes. Write an alternative implementation of the above cell using the `group_by_field` function you defined previously."
      ]
    },
    {
      "cell_type": "code",
      "metadata": {
        "id": "bJR6XqqTJ7ir",
        "colab_type": "code",
        "colab": {}
      },
      "source": [
        "assert practice_postal['K82019'] == 'HP21 8TR'"
      ],
      "execution_count": 0,
      "outputs": []
    },
    {
      "cell_type": "markdown",
      "metadata": {
        "id": "N6KZ7XxWJ7ix",
        "colab_type": "text"
      },
      "source": [
        "Now we can join `practice_postal` to `scripts`."
      ]
    },
    {
      "cell_type": "code",
      "metadata": {
        "id": "kZ-sE0_-J7i0",
        "colab_type": "code",
        "colab": {}
      },
      "source": [
        "joined = scripts[:]\n",
        "for script in joined:\n",
        "    if script['practice'] in practice_postal.keys():\n",
        "        script['post_code'] = practice_postal[script['practice']]"
      ],
      "execution_count": 0,
      "outputs": []
    },
    {
      "cell_type": "markdown",
      "metadata": {
        "id": "KQj5bnEYJ7i4",
        "colab_type": "text"
      },
      "source": [
        "Finally we'll group the prescription dictionaries in `joined` by `'post_code'` and sum up the items prescribed in each group, as we did in the previous question."
      ]
    },
    {
      "cell_type": "code",
      "metadata": {
        "id": "FGmY3AYBS2-r",
        "colab_type": "code",
        "colab": {}
      },
      "source": [
        "items_by_post = group_by_field(scripts, ('post_code',))\n",
        "items_by_post_1 ={}\n",
        "for i in scripts:\n",
        "    key=i['post_code']\n",
        "    if key in items_by_post_1:\n",
        "        items_by_post_1[key].append(i)\n",
        "    else:\n",
        "        items_by_post_1[key]=[i]\n",
        "groups=items_by_post_1        \n",
        "postal_total1=[]\n",
        "for i in groups.keys():\n",
        "    sum1=0\n",
        "    for j in groups[i]:\n",
        "        sum1+=j['items']\n",
        "    if (sum1)!=0:\n",
        "        postal_total1.append((i,sum1))"
      ],
      "execution_count": 0,
      "outputs": []
    },
    {
      "cell_type": "code",
      "metadata": {
        "id": "uGJw3RQeS2-u",
        "colab_type": "code",
        "colab": {}
      },
      "source": [
        "practice_postal = {}\n",
        "for practice in practices:\n",
        "    if practice['code'] in practice_postal:\n",
        "        if (practice_postal[practice['code']]>practice['post_code']):\n",
        "            practice_postal[practice['code']]=practice['post_code']\n",
        "    else:\n",
        "        practice_postal[practice['code']] = practice['post_code']\n",
        "\n",
        "joined = scripts[:]\n",
        "for script in joined:\n",
        "    if script['practice'] in practice_postal.keys():\n",
        "        script['post_code'] = practice_postal[script['practice']]\n",
        "\n",
        "prescriptionByPostCode = {}\n",
        "for element in joined:\n",
        "    if element['post_code'] not in prescriptionByPostCode:\n",
        "       prescriptionByPostCode[element['post_code']] = [element['items']]\n",
        "    else:\n",
        "        prescriptionByPostCode[element['post_code']].append(element['items'])\n",
        "\n",
        "items_by_post = [sum(prescriptionByPostCode[x]) for x in prescriptionByPostCode]\n",
        "keys = list(prescriptionByPostCode.keys())\n",
        "pairs = list(zip(keys, items_by_post))\n",
        "pairs.sort()\n",
        "items_by_post = []\n",
        "for pair in pairs:\n",
        "    if pair[1] > 0:\n",
        "        items_by_post.append(pair)            "
      ],
      "execution_count": 0,
      "outputs": []
    },
    {
      "cell_type": "code",
      "metadata": {
        "id": "3dumj7ylS2-y",
        "colab_type": "code",
        "outputId": "cf475a9c-7240-4416-b7f7-3ffd7fc8cde4",
        "colab": {}
      },
      "source": [
        "grader.score.pw__postal_totals(items_by_post[:100])"
      ],
      "execution_count": 0,
      "outputs": [
        {
          "output_type": "stream",
          "text": [
            "==================\n",
            "Your score:  1.0\n",
            "==================\n"
          ],
          "name": "stdout"
        }
      ]
    },
    {
      "cell_type": "code",
      "metadata": {
        "id": "oF24cf90J7jN",
        "colab_type": "code",
        "colab": {},
        "outputId": "94299fa3-b42a-4d15-e97a-11ed305c84e8"
      },
      "source": [
        "(postal_total1).sort()\n",
        "postal_sorted=(postal_total1)[:100]\n",
        "#print (postal_sorted[:100][::-1])\n",
        "#postal_total = [(j,i) for i,j in (postal_sorted[::-1][:100])]\n",
        "\n",
        "grader.score.pw__postal_totals(postal_sorted)"
      ],
      "execution_count": 0,
      "outputs": [
        {
          "output_type": "stream",
          "text": [
            "==================\n",
            "Your score:  1.0\n",
            "==================\n"
          ],
          "name": "stdout"
        }
      ]
    },
    {
      "cell_type": "code",
      "metadata": {
        "id": "GXk_K3GeJ7jR",
        "colab_type": "code",
        "colab": {},
        "outputId": "fe75a710-03ac-4b92-c6a8-52b51d519948"
      },
      "source": [
        "print(items_by_post[:100])\n",
        "print(postal_sorted)\n",
        "sum1=0\n",
        "for i in postal_sorted:\n",
        "    sum1+=i[1]\n",
        "print (sum1)"
      ],
      "execution_count": 0,
      "outputs": [
        {
          "output_type": "stream",
          "text": [
            "[('B11 4BW', 20673), ('B18 7AL', 19001), ('B21 9RY', 29103), ('B23 6DJ', 24859), ('B70 7AW', 36531), ('BB11 2DL', 34356), ('BB2 1AX', 28254), ('BB3 1PY', 54514), ('BB4 5SL', 29388), ('BB7 2JG', 44585), ('BB8 0JZ', 54380), ('BB9 7SR', 38224), ('BD3 8QH', 21010), ('BH18 8EE', 39413), ('BH23 3AF', 32545), ('BL1 8TU', 26132), ('BL3 5HP', 27147), ('BL9 0NJ', 32062), ('BL9 0SN', 35275), ('CB9 8HF', 51337), ('CH1 4DS', 34915), ('CH65 6TG', 25090), ('CT11 8AD', 44358), ('CV1 4FS', 37210), ('CW1 3AW', 64104), ('CW5 5NX', 38797), ('CW7 1AT', 43164), ('DA1 2HA', 26075), ('DA11 8BZ', 24090), ('DN22 7XF', 43091), ('DN34 4GB', 48013), ('FY2 0JG', 69118), ('FY4 1TJ', 62886), ('FY5 2TZ', 44258), ('FY7 8GU', 34473), ('GL1 3PX', 38120), ('GL50 4DP', 74822), ('GU9 9QS', 32131), ('HA0 4UZ', 22755), ('HA3 7LT', 32113), ('HG1 5AR', 32684), ('HU7 4DW', 49107), ('KT14 6DH', 26758), ('KT6 6EZ', 38975), ('L31 0DJ', 32065), ('L36 7XY', 22965), ('L5 0QW', 24676), ('L7 6HD', 42569), ('LA1 1PN', 47335), ('LE10 1DS', 49335), ('LE18 2EW', 37144), ('LE5 3GH', 28654), ('LN2 2JP', 46173), ('LS9 9EF', 48051), ('M11 4EJ', 23166), ('M26 2SP', 37718), ('M30 0NU', 25597), ('M35 0AD', 37632), ('ME8 8AA', 25257), ('N9 7HD', 30706), ('NE10 9QG', 39882), ('NE24 1DX', 50491), ('NE37 2PU', 57500), ('NE38 7NQ', 52803), ('NG7 3GW', 17698), ('NG7 5HY', 24903), ('NN16 8DN', 50771), ('NW10 8RY', 21553), ('OL1 1NL', 41046), ('OL11 1DN', 21567), ('OL4 1YN', 24687), ('OL9 7AY', 28394), ('PL7 1AD', 65051), ('RM3 9SU', 25476), ('S63 9EH', 34787), ('S65 1DA', 71683), ('S74 9AF', 55305), ('SE1 6JP', 45030), ('SE15 5LJ', 15258), ('SK11 6JL', 110071), ('SK6 1ND', 28313), ('SM3 8EP', 24965), ('SM6 0HY', 46016), ('SR4 7XF', 49843), ('SR5 2LT', 44895), ('SS0 7AF', 21569), ('SS13 3HQ', 38513), ('SS8 0JA', 45848), ('SS9 5UU', 26095), ('ST1 4PB', 24227), ('ST3 6AB', 38705), ('ST8 6AG', 34516), ('TN24 0GP', 16955), ('TN34 1BA', 47440), ('TR1 2JA', 40194), ('TS1 2NX', 47623), ('TS10 4NW', 45161), ('TS17 0EE', 68388), ('TS23 2DG', 31646), ('TS24 7PW', 58207)]\n",
            "[('B11 4BW', 20673), ('B18 7AL', 19001), ('B21 9RY', 29103), ('B23 6DJ', 24859), ('B70 7AW', 36531), ('BB11 2DL', 34356), ('BB2 1AX', 28254), ('BB3 1PY', 54514), ('BB4 5SL', 29388), ('BB7 2JG', 44585), ('BB8 0JZ', 54380), ('BB9 7SR', 38224), ('BD3 8QH', 21010), ('BH18 8EE', 39413), ('BH23 3AF', 32545), ('BL1 8TU', 26132), ('BL3 5HP', 27147), ('BL9 0NJ', 32062), ('BL9 0SN', 35275), ('CB9 8HF', 51337), ('CH1 4DS', 34915), ('CH65 6TG', 25090), ('CT11 8AD', 44358), ('CV1 4FS', 37210), ('CW1 3AW', 64104), ('CW5 5NX', 38797), ('CW7 1AT', 43164), ('DA1 2HA', 26075), ('DA11 8BZ', 24090), ('DN22 7XF', 43091), ('DN34 4GB', 48013), ('FY2 0JG', 69118), ('FY4 1TJ', 62886), ('FY5 2TZ', 44258), ('FY7 8GU', 34473), ('GL1 3PX', 38120), ('GL50 4DP', 74822), ('GU9 9QS', 32131), ('HA0 4UZ', 22755), ('HA3 7LT', 32113), ('HG1 5AR', 32684), ('HU7 4DW', 49107), ('KT14 6DH', 26758), ('KT6 6EZ', 38975), ('L31 0DJ', 32065), ('L36 7XY', 22965), ('L5 0QW', 24676), ('L7 6HD', 42569), ('LA1 1PN', 47335), ('LE10 1DS', 49335), ('LE18 2EW', 37144), ('LE5 3GH', 28654), ('LN2 2JP', 46173), ('LS9 9EF', 48051), ('M11 4EJ', 23166), ('M26 2SP', 37718), ('M30 0NU', 25597), ('M35 0AD', 37632), ('ME8 8AA', 25257), ('N9 7HD', 30706), ('NE10 9QG', 39882), ('NE24 1DX', 50491), ('NE37 2PU', 57500), ('NE38 7NQ', 52803), ('NG7 3GW', 17698), ('NG7 5HY', 24903), ('NN16 8DN', 50771), ('NW10 8RY', 21553), ('OL1 1NL', 41046), ('OL11 1DN', 21567), ('OL4 1YN', 24687), ('OL9 7AY', 28394), ('PL7 1AD', 65051), ('RM3 9SU', 25476), ('S63 9EH', 34787), ('S65 1DA', 71683), ('S74 9AF', 55305), ('SE1 6JP', 45030), ('SE15 5LJ', 15258), ('SK11 6JL', 110071), ('SK6 1ND', 28313), ('SM3 8EP', 24965), ('SM6 0HY', 46016), ('SR4 7XF', 49843), ('SR5 2LT', 44895), ('SS0 7AF', 21569), ('SS13 3HQ', 38513), ('SS8 0JA', 45848), ('SS9 5UU', 26095), ('ST1 4PB', 24227), ('ST3 6AB', 38705), ('ST8 6AG', 34516), ('TN24 0GP', 16955), ('TN34 1BA', 47440), ('TR1 2JA', 40194), ('TS1 2NX', 47623), ('TS10 4NW', 45161), ('TS17 0EE', 68388), ('TS23 2DG', 31646), ('TS24 7PW', 58207)]\n",
            "3858014\n"
          ],
          "name": "stdout"
        }
      ]
    },
    {
      "cell_type": "markdown",
      "metadata": {
        "id": "H-6dJP9AJ7jV",
        "colab_type": "text"
      },
      "source": [
        "## Question 4: items_by_region\n",
        "\n",
        "Now we'll combine the techniques we've developed to answer a more complex question. Find the most commonly dispensed item in each postal code, representing the results as a list of tuples (`post_code`, `bnf_name`, amount dispensed as proportion of total). Sort your results ascending alphabetically by post code and take only results from the first 100 post codes.\n",
        "\n",
        "**NOTE:** We'll continue to use the `joined` variable we created before, where we've chosen the alphabetically first postal code for each practice. Additionally, some postal codes will have multiple `'bnf_name'` with the same number of items prescribed for the maximum. In this case, we'll take the alphabetically first `'bnf_name'`."
      ]
    },
    {
      "cell_type": "markdown",
      "metadata": {
        "id": "xNxvCGSRJ7jX",
        "colab_type": "text"
      },
      "source": [
        "Now we need to calculate the total items of each `'bnf_name'` prescribed in each `'post_code'`. Use the techniques we developed in the previous questions to calculate these totals. You should have 141196 `('post_code', 'bnf_name')` groups."
      ]
    },
    {
      "cell_type": "code",
      "metadata": {
        "id": "plDQmN2bJ7jY",
        "colab_type": "code",
        "colab": {},
        "outputId": "ac623b25-8e1a-4ef9-f6a7-b8bdac4fc28c"
      },
      "source": [
        "joined[:2]"
      ],
      "execution_count": 0,
      "outputs": [
        {
          "output_type": "execute_result",
          "data": {
            "text/plain": [
              "[{'bnf_code': '0101010G0AAABAB',\n",
              "  'items': 2,\n",
              "  'practice': 'N81013',\n",
              "  'bnf_name': 'Co-Magaldrox_Susp 195mg/220mg/5ml S/F',\n",
              "  'nic': 5.98,\n",
              "  'act_cost': 5.56,\n",
              "  'quantity': 1000,\n",
              "  'post_code': 'SK11 6JL'},\n",
              " {'bnf_code': '0101021B0AAAHAH',\n",
              "  'items': 1,\n",
              "  'practice': 'N81013',\n",
              "  'bnf_name': 'Alginate_Raft-Forming Oral Susp S/F',\n",
              "  'nic': 1.95,\n",
              "  'act_cost': 1.82,\n",
              "  'quantity': 500,\n",
              "  'post_code': 'SK11 6JL'}]"
            ]
          },
          "metadata": {
            "tags": []
          },
          "execution_count": 30
        }
      ]
    },
    {
      "cell_type": "code",
      "metadata": {
        "id": "YOnyYES7J7jl",
        "colab_type": "code",
        "colab": {}
      },
      "source": [
        "bnf_names = {}\n",
        "for i in joined:\n",
        "    key=i['bnf_name']\n",
        "    key2=i['post_code']\n",
        "    if (key,key2) in bnf_names:\n",
        "        bnf_names[(key,key2)].append(i)\n",
        "    else:\n",
        "        bnf_names[(key,key2)]=[i]\n",
        "groups=bnf_names\n",
        "item=[]\n",
        "for i,j in groups.keys():\n",
        "    sum1=0\n",
        "    for k in groups[(i,j)]:\n",
        "        sum1+=k['items']\n",
        "    item.append([j,i,sum1])"
      ],
      "execution_count": 0,
      "outputs": []
    },
    {
      "cell_type": "code",
      "metadata": {
        "id": "JaqsoAgkJ7jp",
        "colab_type": "code",
        "colab": {}
      },
      "source": [
        "total_items_by_bnf_post = item\n",
        "assert len(total_items_by_bnf_post) == 141196"
      ],
      "execution_count": 0,
      "outputs": []
    },
    {
      "cell_type": "markdown",
      "metadata": {
        "id": "5rCfBpozJ7jt",
        "colab_type": "text"
      },
      "source": [
        "Let's use `total_by_item_post` to find the maximum item total for each postal code. To do this, we will want to regroup `total_by_item_post` by `'post_code'` only, not by `('post_code', 'bnf_name')`. First let's turn `total_by_item_post` into a list of dictionaries (similar to `scripts` or `practices`) and then group it by `'post_code'`. You should have 118 groups in `total_by_item_post` after grouping it by `'post_code'`."
      ]
    },
    {
      "cell_type": "code",
      "metadata": {
        "id": "twTVHVyKJ7ju",
        "colab_type": "code",
        "colab": {}
      },
      "source": [
        "def group_by_field2(data, fields):\n",
        "    groups_dic={}\n",
        "    for field in fields:\n",
        "        groups = {}\n",
        "        for i in data:\n",
        "            key=i['%s'%(field)]\n",
        "            if key in groups.keys():\n",
        "                flag=0\n",
        "                for name in range(len(groups[key])):\n",
        "                    if (groups[key][name][1]==i['bnf_name']):\n",
        "                        groups[key][name][0]+=i['items']\n",
        "                        flag=1\n",
        "                        break\n",
        "                if flag==0:\n",
        "                    groups[key].append([i['items'],i['bnf_name']])\n",
        "            else:\n",
        "                groups[key]=[[i['items'],i['bnf_name']]]\n",
        "        groups_dic['%s'%(field)]=groups\n",
        "        \n",
        "    return groups_dic"
      ],
      "execution_count": 0,
      "outputs": []
    },
    {
      "cell_type": "code",
      "metadata": {
        "id": "xawpw063J7jy",
        "colab_type": "code",
        "colab": {}
      },
      "source": [
        "total_items_by_post = group_by_field2(joined, ('post_code',))['post_code']\n",
        "assert len(total_items_by_post) == 118"
      ],
      "execution_count": 0,
      "outputs": []
    },
    {
      "cell_type": "markdown",
      "metadata": {
        "id": "tXaXTl5SJ7j4",
        "colab_type": "text"
      },
      "source": [
        "Now we will aggregate the groups in `total_by_item_post` to create `max_item_by_post`. Some `'bnf_name'` have the same item total within a given postal code. Therefore, if more than one `'bnf_name'` has the maximum item total in a given postal code, we'll take the alphabetically first `'bnf_name'`. We can do this by [sorting](https://docs.python.org/2.7/howto/sorting.html) each group according to the item total and `'bnf_name'`."
      ]
    },
    {
      "cell_type": "code",
      "metadata": {
        "id": "lbPuYXRZJ7j5",
        "colab_type": "code",
        "colab": {}
      },
      "source": [
        "test=total_items_by_post"
      ],
      "execution_count": 0,
      "outputs": []
    },
    {
      "cell_type": "code",
      "metadata": {
        "id": "jjjKtIXzJ7j8",
        "colab_type": "code",
        "colab": {}
      },
      "source": [
        "for key in test:\n",
        "    test['%s'%key].sort(reverse=True)"
      ],
      "execution_count": 0,
      "outputs": []
    },
    {
      "cell_type": "code",
      "metadata": {
        "id": "D9gUf2t0J7kC",
        "colab_type": "code",
        "colab": {}
      },
      "source": [
        "anslist=[]\n",
        "ctr=0\n",
        "total_items=items_by_post\n",
        "for key in sorted(list(test.keys())):\n",
        "    anslist.append((key,'%s'%max(test['%s'%key])[1],(max(test['%s'%key])[0]/total_items[ctr][1])))\n",
        "    ctr+=1\n",
        "anslist.sort()\n",
        "#anslist.append((key,test['%s'%key],max(test['%s'%key][])))----//total_items[ctr][1]"
      ],
      "execution_count": 0,
      "outputs": []
    },
    {
      "cell_type": "code",
      "metadata": {
        "id": "x6kajJTEJ7kJ",
        "colab_type": "code",
        "colab": {}
      },
      "source": [
        "list(test.keys()).sort()"
      ],
      "execution_count": 0,
      "outputs": []
    },
    {
      "cell_type": "code",
      "metadata": {
        "id": "DYAQYhuHJ7kL",
        "colab_type": "code",
        "colab": {}
      },
      "source": [
        "max_item_by_post = anslist[:100]"
      ],
      "execution_count": 0,
      "outputs": []
    },
    {
      "cell_type": "markdown",
      "metadata": {
        "id": "KIncDIwPJ7kP",
        "colab_type": "text"
      },
      "source": [
        "In order to express the item totals as a proportion of the total amount of items prescribed across all `'bnf_name'` in a postal code, we'll need to use the total items prescribed that previously calculated as `items_by_post`. Calculate the proportions for the most common `'bnf_names'` for each postal code. Format your answer as a list of tuples: `[(post_code, bnf_name, total)]`"
      ]
    },
    {
      "cell_type": "code",
      "metadata": {
        "id": "8-WGQBb3J7kQ",
        "colab_type": "code",
        "colab": {}
      },
      "source": [
        "items_by_region = [('B11 4BW', 'Salbutamol_Inha 100mcg (200 D) CFF', 0.0341508247)] * 100"
      ],
      "execution_count": 0,
      "outputs": []
    },
    {
      "cell_type": "code",
      "metadata": {
        "id": "OJSzwIAaJ7kW",
        "colab_type": "code",
        "colab": {}
      },
      "source": [
        "items_by_region = anslist[:100]"
      ],
      "execution_count": 0,
      "outputs": []
    },
    {
      "cell_type": "code",
      "metadata": {
        "id": "6wAE1BElJ7kZ",
        "colab_type": "code",
        "colab": {},
        "outputId": "efe778c2-a803-458d-dfb0-6503a3466f46"
      },
      "source": [
        "grader.score.pw__items_by_region(items_by_region)"
      ],
      "execution_count": 0,
      "outputs": [
        {
          "output_type": "stream",
          "text": [
            "==================\n",
            "Your score:  1.0\n",
            "==================\n"
          ],
          "name": "stdout"
        }
      ]
    },
    {
      "cell_type": "markdown",
      "metadata": {
        "id": "EoHp5jtpJ7ke",
        "colab_type": "text"
      },
      "source": [
        "*Copyright &copy; 2017 The Data Incubator.  All rights reserved.*"
      ]
    },
    {
      "cell_type": "markdown",
      "metadata": {
        "id": "JlVNK5Q_KBFZ",
        "colab_type": "text"
      },
      "source": [
        "# DW Miniproject\n",
        "## Introduction\n",
        "\n",
        "The objective of this miniproject is to exercise your ability to wrangle tabular data set and aggregate large data sets into meaningful summary statistics. We will be working with the same medical data used in the `pw` miniproject, but will be leveraging the power of Pandas to more efficiently represent and act on our data."
      ]
    },
    {
      "cell_type": "markdown",
      "metadata": {
        "id": "m7MwT94YKBFc",
        "colab_type": "text"
      },
      "source": [
        "## Downloading the data\n",
        "\n",
        "We first need to download the data we'll be using from Amazon S3:"
      ]
    },
    {
      "cell_type": "code",
      "metadata": {
        "id": "4rHicHYNKBFf",
        "colab_type": "code",
        "colab": {}
      },
      "source": [
        "#!mkdir dw-data\n",
        "#!wget http://dataincubator-wqu.s3.amazonaws.com/dwdata/201701scripts_sample.csv.gz -nc -P ./dw-data/\n",
        "#!wget http://dataincubator-wqu.s3.amazonaws.com/dwdata/201606scripts_sample.csv.gz -nc -P ./dw-data/\n",
        "#!wget http://dataincubator-wqu.s3.amazonaws.com/dwdata/practices.csv.gz -nc -P ./dw-data/\n",
        "#!wget http://dataincubator-wqu.s3.amazonaws.com/dwdata/chem.csv.gz -nc -P ./dw-data/"
      ],
      "execution_count": 0,
      "outputs": []
    },
    {
      "cell_type": "markdown",
      "metadata": {
        "id": "O1c9P1B6KBFm",
        "colab_type": "text"
      },
      "source": [
        "## Loading the data\n",
        "\n",
        "Similar to the `PW` miniproject, the first step is to read in the data. The data files are stored as compressed CSV files. You can load the data into a Pandas DataFrame by making use of the `gzip` package to decompress the files and Panda's `read_csv` methods to parse the data into a DataFrame. You may want to check the Pandas documentation for parsing [CSV](http://pandas.pydata.org/pandas-docs/stable/generated/pandas.read_csv.html) files for reference.\n",
        "\n",
        "For a description of the data set please, refer to the [PW miniproject](./pw.ipynb). **Note that all questions make use of the 2017 data only, except for Question 5 which makes use of both the 2017 and 2016 data.**"
      ]
    },
    {
      "cell_type": "code",
      "metadata": {
        "id": "x9Uuo60OKBFo",
        "colab_type": "code",
        "colab": {}
      },
      "source": [
        "import pandas as pd\n",
        "import numpy as np\n",
        "import gzip"
      ],
      "execution_count": 0,
      "outputs": []
    },
    {
      "cell_type": "code",
      "metadata": {
        "id": "wIxe9o4MKBFv",
        "colab_type": "code",
        "outputId": "07a1f420-0923-49de-cf04-f46684a89809",
        "colab": {}
      },
      "source": [
        "!ls dw-data"
      ],
      "execution_count": 0,
      "outputs": [
        {
          "output_type": "stream",
          "text": [
            "201606scripts_sample.csv.gz  chem.csv.gz\r\n",
            "201701scripts_sample.csv.gz  practices.csv.gz\r\n"
          ],
          "name": "stdout"
        }
      ]
    },
    {
      "cell_type": "code",
      "metadata": {
        "id": "33izvrhXKBF4",
        "colab_type": "code",
        "outputId": "4b60739a-9a47-463c-af00-2f255223eada",
        "colab": {}
      },
      "source": [
        "# load the 2017 data\n",
        "with gzip.open('./dw-data/201701scripts_sample.csv.gz','r') as f2017:\n",
        "    scripts=pd.read_csv(f2017)\n",
        "scripts.head()"
      ],
      "execution_count": 0,
      "outputs": [
        {
          "output_type": "execute_result",
          "data": {
            "text/html": [
              "<div>\n",
              "<style>\n",
              "    .dataframe thead tr:only-child th {\n",
              "        text-align: right;\n",
              "    }\n",
              "\n",
              "    .dataframe thead th {\n",
              "        text-align: left;\n",
              "    }\n",
              "\n",
              "    .dataframe tbody tr th {\n",
              "        vertical-align: top;\n",
              "    }\n",
              "</style>\n",
              "<table border=\"1\" class=\"dataframe\">\n",
              "  <thead>\n",
              "    <tr style=\"text-align: right;\">\n",
              "      <th></th>\n",
              "      <th>practice</th>\n",
              "      <th>bnf_code</th>\n",
              "      <th>bnf_name</th>\n",
              "      <th>items</th>\n",
              "      <th>nic</th>\n",
              "      <th>act_cost</th>\n",
              "      <th>quantity</th>\n",
              "    </tr>\n",
              "  </thead>\n",
              "  <tbody>\n",
              "    <tr>\n",
              "      <th>0</th>\n",
              "      <td>N85639</td>\n",
              "      <td>0106020C0</td>\n",
              "      <td>Bisacodyl_Tab E/C 5mg</td>\n",
              "      <td>1</td>\n",
              "      <td>0.39</td>\n",
              "      <td>0.47</td>\n",
              "      <td>12</td>\n",
              "    </tr>\n",
              "    <tr>\n",
              "      <th>1</th>\n",
              "      <td>N85639</td>\n",
              "      <td>0106040M0</td>\n",
              "      <td>Movicol Plain_Paed Pdr Sach 6.9g</td>\n",
              "      <td>1</td>\n",
              "      <td>4.38</td>\n",
              "      <td>4.07</td>\n",
              "      <td>30</td>\n",
              "    </tr>\n",
              "    <tr>\n",
              "      <th>2</th>\n",
              "      <td>N85639</td>\n",
              "      <td>0301011R0</td>\n",
              "      <td>Salbutamol_Inha 100mcg (200 D) CFF</td>\n",
              "      <td>1</td>\n",
              "      <td>1.50</td>\n",
              "      <td>1.40</td>\n",
              "      <td>1</td>\n",
              "    </tr>\n",
              "    <tr>\n",
              "      <th>3</th>\n",
              "      <td>N85639</td>\n",
              "      <td>0304010G0</td>\n",
              "      <td>Chlorphenamine Mal_Oral Soln 2mg/5ml</td>\n",
              "      <td>1</td>\n",
              "      <td>2.62</td>\n",
              "      <td>2.44</td>\n",
              "      <td>150</td>\n",
              "    </tr>\n",
              "    <tr>\n",
              "      <th>4</th>\n",
              "      <td>N85639</td>\n",
              "      <td>0401020K0</td>\n",
              "      <td>Diazepam_Tab 2mg</td>\n",
              "      <td>1</td>\n",
              "      <td>0.16</td>\n",
              "      <td>0.26</td>\n",
              "      <td>6</td>\n",
              "    </tr>\n",
              "  </tbody>\n",
              "</table>\n",
              "</div>"
            ],
            "text/plain": [
              "  practice   bnf_code                              bnf_name  items   nic  \\\n",
              "0   N85639  0106020C0                 Bisacodyl_Tab E/C 5mg      1  0.39   \n",
              "1   N85639  0106040M0      Movicol Plain_Paed Pdr Sach 6.9g      1  4.38   \n",
              "2   N85639  0301011R0    Salbutamol_Inha 100mcg (200 D) CFF      1  1.50   \n",
              "3   N85639  0304010G0  Chlorphenamine Mal_Oral Soln 2mg/5ml      1  2.62   \n",
              "4   N85639  0401020K0                      Diazepam_Tab 2mg      1  0.16   \n",
              "\n",
              "   act_cost  quantity  \n",
              "0      0.47        12  \n",
              "1      4.07        30  \n",
              "2      1.40         1  \n",
              "3      2.44       150  \n",
              "4      0.26         6  "
            ]
          },
          "metadata": {
            "tags": []
          },
          "execution_count": 17
        }
      ]
    },
    {
      "cell_type": "code",
      "metadata": {
        "id": "tToTdtJ5KBGJ",
        "colab_type": "code",
        "outputId": "6f24522d-34c6-4812-cdf4-48ab6e778c9d",
        "colab": {}
      },
      "source": [
        "col_names=[ 'code', 'name', 'addr_1', 'addr_2', 'borough', 'village', 'post_code']\n",
        "with gzip.open('./dw-data/practices.csv.gz','r') as f_practices:\n",
        "    practices =pd.read_csv(f_practices,names=col_names)\n",
        "practices.head()"
      ],
      "execution_count": 0,
      "outputs": [
        {
          "output_type": "execute_result",
          "data": {
            "text/html": [
              "<div>\n",
              "<style>\n",
              "    .dataframe thead tr:only-child th {\n",
              "        text-align: right;\n",
              "    }\n",
              "\n",
              "    .dataframe thead th {\n",
              "        text-align: left;\n",
              "    }\n",
              "\n",
              "    .dataframe tbody tr th {\n",
              "        vertical-align: top;\n",
              "    }\n",
              "</style>\n",
              "<table border=\"1\" class=\"dataframe\">\n",
              "  <thead>\n",
              "    <tr style=\"text-align: right;\">\n",
              "      <th></th>\n",
              "      <th>code</th>\n",
              "      <th>name</th>\n",
              "      <th>addr_1</th>\n",
              "      <th>addr_2</th>\n",
              "      <th>borough</th>\n",
              "      <th>village</th>\n",
              "      <th>post_code</th>\n",
              "    </tr>\n",
              "  </thead>\n",
              "  <tbody>\n",
              "    <tr>\n",
              "      <th>0</th>\n",
              "      <td>A81001</td>\n",
              "      <td>THE DENSHAM SURGERY</td>\n",
              "      <td>THE HEALTH CENTRE</td>\n",
              "      <td>LAWSON STREET</td>\n",
              "      <td>STOCKTON ON TEES</td>\n",
              "      <td>CLEVELAND</td>\n",
              "      <td>TS18 1HU</td>\n",
              "    </tr>\n",
              "    <tr>\n",
              "      <th>1</th>\n",
              "      <td>A81002</td>\n",
              "      <td>QUEENS PARK MEDICAL CENTRE</td>\n",
              "      <td>QUEENS PARK MEDICAL CTR</td>\n",
              "      <td>FARRER STREET</td>\n",
              "      <td>STOCKTON ON TEES</td>\n",
              "      <td>CLEVELAND</td>\n",
              "      <td>TS18 2AW</td>\n",
              "    </tr>\n",
              "    <tr>\n",
              "      <th>2</th>\n",
              "      <td>A81003</td>\n",
              "      <td>VICTORIA MEDICAL PRACTICE</td>\n",
              "      <td>THE HEALTH CENTRE</td>\n",
              "      <td>VICTORIA ROAD</td>\n",
              "      <td>HARTLEPOOL</td>\n",
              "      <td>CLEVELAND</td>\n",
              "      <td>TS26 8DB</td>\n",
              "    </tr>\n",
              "    <tr>\n",
              "      <th>3</th>\n",
              "      <td>A81004</td>\n",
              "      <td>WOODLANDS ROAD SURGERY</td>\n",
              "      <td>6 WOODLANDS ROAD</td>\n",
              "      <td>NaN</td>\n",
              "      <td>MIDDLESBROUGH</td>\n",
              "      <td>CLEVELAND</td>\n",
              "      <td>TS1 3BE</td>\n",
              "    </tr>\n",
              "    <tr>\n",
              "      <th>4</th>\n",
              "      <td>A81005</td>\n",
              "      <td>SPRINGWOOD SURGERY</td>\n",
              "      <td>SPRINGWOOD SURGERY</td>\n",
              "      <td>RECTORY LANE</td>\n",
              "      <td>GUISBOROUGH</td>\n",
              "      <td>NaN</td>\n",
              "      <td>TS14 7DJ</td>\n",
              "    </tr>\n",
              "  </tbody>\n",
              "</table>\n",
              "</div>"
            ],
            "text/plain": [
              "     code                        name                   addr_1         addr_2  \\\n",
              "0  A81001         THE DENSHAM SURGERY        THE HEALTH CENTRE  LAWSON STREET   \n",
              "1  A81002  QUEENS PARK MEDICAL CENTRE  QUEENS PARK MEDICAL CTR  FARRER STREET   \n",
              "2  A81003   VICTORIA MEDICAL PRACTICE        THE HEALTH CENTRE  VICTORIA ROAD   \n",
              "3  A81004      WOODLANDS ROAD SURGERY         6 WOODLANDS ROAD            NaN   \n",
              "4  A81005          SPRINGWOOD SURGERY       SPRINGWOOD SURGERY   RECTORY LANE   \n",
              "\n",
              "            borough    village post_code  \n",
              "0  STOCKTON ON TEES  CLEVELAND  TS18 1HU  \n",
              "1  STOCKTON ON TEES  CLEVELAND  TS18 2AW  \n",
              "2        HARTLEPOOL  CLEVELAND  TS26 8DB  \n",
              "3     MIDDLESBROUGH  CLEVELAND   TS1 3BE  \n",
              "4       GUISBOROUGH        NaN  TS14 7DJ  "
            ]
          },
          "metadata": {
            "tags": []
          },
          "execution_count": 7
        }
      ]
    },
    {
      "cell_type": "code",
      "metadata": {
        "id": "bfUCF1eQKBGR",
        "colab_type": "code",
        "outputId": "a8475dbb-995d-4322-a8b3-7e9b08b24408",
        "colab": {}
      },
      "source": [
        "with gzip.open('./dw-data/chem.csv.gz','r') as f_chem:\n",
        "    chem =pd.read_csv(f_chem)\n",
        "chem.head()"
      ],
      "execution_count": 0,
      "outputs": [
        {
          "output_type": "execute_result",
          "data": {
            "text/html": [
              "<div>\n",
              "<style>\n",
              "    .dataframe thead tr:only-child th {\n",
              "        text-align: right;\n",
              "    }\n",
              "\n",
              "    .dataframe thead th {\n",
              "        text-align: left;\n",
              "    }\n",
              "\n",
              "    .dataframe tbody tr th {\n",
              "        vertical-align: top;\n",
              "    }\n",
              "</style>\n",
              "<table border=\"1\" class=\"dataframe\">\n",
              "  <thead>\n",
              "    <tr style=\"text-align: right;\">\n",
              "      <th></th>\n",
              "      <th>CHEM SUB</th>\n",
              "      <th>NAME</th>\n",
              "    </tr>\n",
              "  </thead>\n",
              "  <tbody>\n",
              "    <tr>\n",
              "      <th>0</th>\n",
              "      <td>0101010A0</td>\n",
              "      <td>Alexitol Sodium</td>\n",
              "    </tr>\n",
              "    <tr>\n",
              "      <th>1</th>\n",
              "      <td>0101010B0</td>\n",
              "      <td>Almasilate</td>\n",
              "    </tr>\n",
              "    <tr>\n",
              "      <th>2</th>\n",
              "      <td>0101010C0</td>\n",
              "      <td>Aluminium Hydroxide</td>\n",
              "    </tr>\n",
              "    <tr>\n",
              "      <th>3</th>\n",
              "      <td>0101010D0</td>\n",
              "      <td>Aluminium Hydroxide With Magnesium</td>\n",
              "    </tr>\n",
              "    <tr>\n",
              "      <th>4</th>\n",
              "      <td>0101010E0</td>\n",
              "      <td>Hydrotalcite</td>\n",
              "    </tr>\n",
              "  </tbody>\n",
              "</table>\n",
              "</div>"
            ],
            "text/plain": [
              "    CHEM SUB                                NAME\n",
              "0  0101010A0                     Alexitol Sodium\n",
              "1  0101010B0                          Almasilate\n",
              "2  0101010C0                 Aluminium Hydroxide\n",
              "3  0101010D0  Aluminium Hydroxide With Magnesium\n",
              "4  0101010E0                        Hydrotalcite"
            ]
          },
          "metadata": {
            "tags": []
          },
          "execution_count": 8
        }
      ]
    },
    {
      "cell_type": "markdown",
      "metadata": {
        "id": "_EyPYFSBKBGb",
        "colab_type": "text"
      },
      "source": [
        "Now that we've loaded in the data, let's first replicate our results from the `PW` miniproject. Note that we are now working with a larger data set so the answers will be different than in the `PW` miniproject even if the analysis is the same."
      ]
    },
    {
      "cell_type": "markdown",
      "metadata": {
        "id": "FmRJW3iGKBGd",
        "colab_type": "text"
      },
      "source": [
        "## Question 1: summary_statistics\n",
        "\n",
        "In the `PW` miniproject we first calculated the total, mean, standard deviation, and quartile statistics of the `'items'`, `'quantity'`', `'nic'`, and `'act_cost'` fields. To do this we had to write some functions to calculate the statistics and apply the functions to our data structure. The DataFrame has a `describe` method that will calculate most (not all) of these things for us.\n",
        "\n",
        "Submit the summary statistics to the grader as a list of tuples: [('act_cost', (total, mean, std, q25, median, q75)), ...]"
      ]
    },
    {
      "cell_type": "code",
      "metadata": {
        "id": "lWqIE8_LKBGf",
        "colab_type": "code",
        "colab": {}
      },
      "source": [
        "def describe(head):\n",
        "    l=(np.array([i for i in scripts['%s'%head].describe()]).tolist()[1:7])\n",
        "    l.insert(0,scripts['%s'%head].sum())\n",
        "    l.pop(3)\n",
        "    return tuple(l)"
      ],
      "execution_count": 0,
      "outputs": []
    },
    {
      "cell_type": "code",
      "metadata": {
        "id": "56Yjbrl7KBGn",
        "colab_type": "code",
        "outputId": "1d8fbb88-56d0-4904-9121-b15a7a6cfc04",
        "colab": {}
      },
      "source": [
        "describe('items')"
      ],
      "execution_count": 0,
      "outputs": [
        {
          "output_type": "execute_result",
          "data": {
            "text/plain": [
              "(8888304, 9.133135976111625, 29.204198282803603, 1.0, 2.0, 6.0)"
            ]
          },
          "metadata": {
            "tags": []
          },
          "execution_count": 10
        }
      ]
    },
    {
      "cell_type": "code",
      "metadata": {
        "id": "s7sQVhYFKBGt",
        "colab_type": "code",
        "outputId": "b0419a25-9ab3-438a-ff2e-65cdf9d16171",
        "colab": {}
      },
      "source": [
        "scripts['items'].describe()"
      ],
      "execution_count": 0,
      "outputs": [
        {
          "output_type": "execute_result",
          "data": {
            "text/plain": [
              "count    973193.000000\n",
              "mean          9.133136\n",
              "std          29.204198\n",
              "min           1.000000\n",
              "25%           1.000000\n",
              "50%           2.000000\n",
              "75%           6.000000\n",
              "max        2384.000000\n",
              "Name: items, dtype: float64"
            ]
          },
          "metadata": {
            "tags": []
          },
          "execution_count": 11
        }
      ]
    },
    {
      "cell_type": "code",
      "metadata": {
        "id": "P-Um53wgKBG0",
        "colab_type": "code",
        "colab": {}
      },
      "source": [
        "summary_stats = [('items', describe('items')), ('quantity', describe('quantity')), ('nic', describe('nic')), ('act_cost', describe('act_cost'))]"
      ],
      "execution_count": 0,
      "outputs": []
    },
    {
      "cell_type": "code",
      "metadata": {
        "id": "cJN60jatKBG5",
        "colab_type": "code",
        "outputId": "34f5e5ee-24d5-4be9-9290-a0e77f5b9931",
        "colab": {}
      },
      "source": [
        "grader.score.dw__summary_statistics(summary_stats)"
      ],
      "execution_count": 0,
      "outputs": [
        {
          "output_type": "stream",
          "text": [
            "==================\n",
            "Your score:  1.0\n",
            "==================\n"
          ],
          "name": "stdout"
        }
      ]
    },
    {
      "cell_type": "markdown",
      "metadata": {
        "id": "lADc17qNKBHA",
        "colab_type": "text"
      },
      "source": [
        "## Question 2: most_common_item\n",
        "\n",
        "We can also easily compute summary statistics on groups within the data. In the `pw` miniproject we had to explicitly construct the groups based on the values of a particular field. Pandas will handle that for us via the `groupby` method. This process is [detailed in the Pandas documentation](https://pandas.pydata.org/pandas-docs/stable/groupby.html).\n",
        "\n",
        "Use `groupby` to calculate the total number of items dispensed for each `'bnf_name'`. Find the item with the highest total and return the result as `[(bnf_name, total)]`."
      ]
    },
    {
      "cell_type": "code",
      "metadata": {
        "id": "BD8C4oHVKBHC",
        "colab_type": "code",
        "colab": {}
      },
      "source": [
        "most_common_item = [(scripts.groupby('bnf_name')['items'].sum().argmax(),scripts.groupby('bnf_name')['items'].sum().max())]"
      ],
      "execution_count": 0,
      "outputs": []
    },
    {
      "cell_type": "code",
      "metadata": {
        "id": "rXKk64q8KBHH",
        "colab_type": "code",
        "outputId": "2b6ea056-d8bb-42d9-aade-23263dc027ee",
        "colab": {}
      },
      "source": [
        "scripts.groupby('bnf_name')['items'].sum().sort_values(ascending=False).head(1)"
      ],
      "execution_count": 0,
      "outputs": [
        {
          "output_type": "execute_result",
          "data": {
            "text/plain": [
              "bnf_name\n",
              "Omeprazole_Cap E/C 20mg    218583\n",
              "Name: items, dtype: int64"
            ]
          },
          "metadata": {
            "tags": []
          },
          "execution_count": 15
        }
      ]
    },
    {
      "cell_type": "code",
      "metadata": {
        "id": "oSRRK6A1KBHP",
        "colab_type": "code",
        "outputId": "64175d3c-ace4-42ae-d4e0-9463efea57ae",
        "colab": {}
      },
      "source": [
        "grader.score.dw__most_common_item(most_common_item)"
      ],
      "execution_count": 0,
      "outputs": [
        {
          "output_type": "stream",
          "text": [
            "==================\n",
            "Error!\n",
            "There was an error grading this question. Please notify a TDI staff member.\n",
            "==================\n"
          ],
          "name": "stdout"
        }
      ]
    },
    {
      "cell_type": "markdown",
      "metadata": {
        "id": "H6uo58arKBHT",
        "colab_type": "text"
      },
      "source": [
        "## Question 3: items_by_region\n",
        "\n",
        "Now let's find the most common item by post code. The post code information is in the `practices` DataFrame, and we'll need to `merge` it into the `scripts` DataFrame. Pandas provides [extensive documentation](https://pandas.pydata.org/pandas-docs/stable/merging.html) with diagrammed examples on different methods and approaches for joining data. The `merge` method is only one of many possible options.\n",
        "\n",
        "Return your results as a list of tuples `(post code, item name, amount dispensed as % of total)`. Sort your results ascending alphabetically by post code and take only results from the first 100 post codes.\n",
        "\n",
        "**NOTE:** Some practices have multiple postal codes associated with them. Use the alphabetically first postal code. Note some postal codes may have multiple `'bnf_name'` with the same prescription rate for the maximum. In this case, take the alphabetically first `'bnf_name'` (as in the PW miniproject)."
      ]
    },
    {
      "cell_type": "code",
      "metadata": {
        "id": "LGIMjzSIKBHV",
        "colab_type": "code",
        "colab": {}
      },
      "source": [
        "sort_practices=practices.sort_values(by=['code','post_code']).drop_duplicates(subset='code',keep='first')\n",
        "#.set_index('code')\n",
        "sort_practices=sort_practices.rename(index=str, columns={\"code\": \"practice\"})"
      ],
      "execution_count": 0,
      "outputs": []
    },
    {
      "cell_type": "code",
      "metadata": {
        "id": "U2ztKHcyKBHd",
        "colab_type": "code",
        "outputId": "9a963404-9d31-4db6-9324-3bc48de79a5a",
        "colab": {}
      },
      "source": [
        "sort_practices.head(2)"
      ],
      "execution_count": 0,
      "outputs": [
        {
          "output_type": "execute_result",
          "data": {
            "text/html": [
              "<div>\n",
              "<style>\n",
              "    .dataframe thead tr:only-child th {\n",
              "        text-align: right;\n",
              "    }\n",
              "\n",
              "    .dataframe thead th {\n",
              "        text-align: left;\n",
              "    }\n",
              "\n",
              "    .dataframe tbody tr th {\n",
              "        vertical-align: top;\n",
              "    }\n",
              "</style>\n",
              "<table border=\"1\" class=\"dataframe\">\n",
              "  <thead>\n",
              "    <tr style=\"text-align: right;\">\n",
              "      <th></th>\n",
              "      <th>practice</th>\n",
              "      <th>name</th>\n",
              "      <th>addr_1</th>\n",
              "      <th>addr_2</th>\n",
              "      <th>borough</th>\n",
              "      <th>village</th>\n",
              "      <th>post_code</th>\n",
              "    </tr>\n",
              "  </thead>\n",
              "  <tbody>\n",
              "    <tr>\n",
              "      <th>0</th>\n",
              "      <td>A81001</td>\n",
              "      <td>THE DENSHAM SURGERY</td>\n",
              "      <td>THE HEALTH CENTRE</td>\n",
              "      <td>LAWSON STREET</td>\n",
              "      <td>STOCKTON ON TEES</td>\n",
              "      <td>CLEVELAND</td>\n",
              "      <td>TS18 1HU</td>\n",
              "    </tr>\n",
              "    <tr>\n",
              "      <th>1</th>\n",
              "      <td>A81002</td>\n",
              "      <td>QUEENS PARK MEDICAL CENTRE</td>\n",
              "      <td>QUEENS PARK MEDICAL CTR</td>\n",
              "      <td>FARRER STREET</td>\n",
              "      <td>STOCKTON ON TEES</td>\n",
              "      <td>CLEVELAND</td>\n",
              "      <td>TS18 2AW</td>\n",
              "    </tr>\n",
              "  </tbody>\n",
              "</table>\n",
              "</div>"
            ],
            "text/plain": [
              "  practice                        name                   addr_1  \\\n",
              "0   A81001         THE DENSHAM SURGERY        THE HEALTH CENTRE   \n",
              "1   A81002  QUEENS PARK MEDICAL CENTRE  QUEENS PARK MEDICAL CTR   \n",
              "\n",
              "          addr_2           borough    village post_code  \n",
              "0  LAWSON STREET  STOCKTON ON TEES  CLEVELAND  TS18 1HU  \n",
              "1  FARRER STREET  STOCKTON ON TEES  CLEVELAND  TS18 2AW  "
            ]
          },
          "metadata": {
            "tags": []
          },
          "execution_count": 65
        }
      ]
    },
    {
      "cell_type": "code",
      "metadata": {
        "id": "_WUm2rgOKBHi",
        "colab_type": "code",
        "colab": {}
      },
      "source": [
        "s=scripts\n",
        "merge_df=s.merge(sort_practices, on='practice')"
      ],
      "execution_count": 0,
      "outputs": []
    },
    {
      "cell_type": "code",
      "metadata": {
        "scrolled": true,
        "id": "xyGFeSsaKBHq",
        "colab_type": "code",
        "outputId": "4ed42405-221c-4e3a-bdfa-dd5d2468a6ea",
        "colab": {}
      },
      "source": [
        "merge_df.head()"
      ],
      "execution_count": 0,
      "outputs": [
        {
          "output_type": "execute_result",
          "data": {
            "text/html": [
              "<div>\n",
              "<style>\n",
              "    .dataframe thead tr:only-child th {\n",
              "        text-align: right;\n",
              "    }\n",
              "\n",
              "    .dataframe thead th {\n",
              "        text-align: left;\n",
              "    }\n",
              "\n",
              "    .dataframe tbody tr th {\n",
              "        vertical-align: top;\n",
              "    }\n",
              "</style>\n",
              "<table border=\"1\" class=\"dataframe\">\n",
              "  <thead>\n",
              "    <tr style=\"text-align: right;\">\n",
              "      <th></th>\n",
              "      <th>practice</th>\n",
              "      <th>bnf_code</th>\n",
              "      <th>bnf_name</th>\n",
              "      <th>items</th>\n",
              "      <th>nic</th>\n",
              "      <th>act_cost</th>\n",
              "      <th>quantity</th>\n",
              "      <th>name</th>\n",
              "      <th>addr_1</th>\n",
              "      <th>addr_2</th>\n",
              "      <th>borough</th>\n",
              "      <th>village</th>\n",
              "      <th>post_code</th>\n",
              "    </tr>\n",
              "  </thead>\n",
              "  <tbody>\n",
              "    <tr>\n",
              "      <th>0</th>\n",
              "      <td>N85639</td>\n",
              "      <td>0106020C0</td>\n",
              "      <td>Bisacodyl_Tab E/C 5mg</td>\n",
              "      <td>1</td>\n",
              "      <td>0.39</td>\n",
              "      <td>0.47</td>\n",
              "      <td>12</td>\n",
              "      <td>GP OOH VCH</td>\n",
              "      <td>VICTORIA CENTRAL HOSPITAL</td>\n",
              "      <td>MILL LANE</td>\n",
              "      <td>WALLASEY</td>\n",
              "      <td>NaN</td>\n",
              "      <td>CH44 5UF</td>\n",
              "    </tr>\n",
              "    <tr>\n",
              "      <th>1</th>\n",
              "      <td>N85639</td>\n",
              "      <td>0106040M0</td>\n",
              "      <td>Movicol Plain_Paed Pdr Sach 6.9g</td>\n",
              "      <td>1</td>\n",
              "      <td>4.38</td>\n",
              "      <td>4.07</td>\n",
              "      <td>30</td>\n",
              "      <td>GP OOH VCH</td>\n",
              "      <td>VICTORIA CENTRAL HOSPITAL</td>\n",
              "      <td>MILL LANE</td>\n",
              "      <td>WALLASEY</td>\n",
              "      <td>NaN</td>\n",
              "      <td>CH44 5UF</td>\n",
              "    </tr>\n",
              "    <tr>\n",
              "      <th>2</th>\n",
              "      <td>N85639</td>\n",
              "      <td>0301011R0</td>\n",
              "      <td>Salbutamol_Inha 100mcg (200 D) CFF</td>\n",
              "      <td>1</td>\n",
              "      <td>1.50</td>\n",
              "      <td>1.40</td>\n",
              "      <td>1</td>\n",
              "      <td>GP OOH VCH</td>\n",
              "      <td>VICTORIA CENTRAL HOSPITAL</td>\n",
              "      <td>MILL LANE</td>\n",
              "      <td>WALLASEY</td>\n",
              "      <td>NaN</td>\n",
              "      <td>CH44 5UF</td>\n",
              "    </tr>\n",
              "    <tr>\n",
              "      <th>3</th>\n",
              "      <td>N85639</td>\n",
              "      <td>0304010G0</td>\n",
              "      <td>Chlorphenamine Mal_Oral Soln 2mg/5ml</td>\n",
              "      <td>1</td>\n",
              "      <td>2.62</td>\n",
              "      <td>2.44</td>\n",
              "      <td>150</td>\n",
              "      <td>GP OOH VCH</td>\n",
              "      <td>VICTORIA CENTRAL HOSPITAL</td>\n",
              "      <td>MILL LANE</td>\n",
              "      <td>WALLASEY</td>\n",
              "      <td>NaN</td>\n",
              "      <td>CH44 5UF</td>\n",
              "    </tr>\n",
              "    <tr>\n",
              "      <th>4</th>\n",
              "      <td>N85639</td>\n",
              "      <td>0401020K0</td>\n",
              "      <td>Diazepam_Tab 2mg</td>\n",
              "      <td>1</td>\n",
              "      <td>0.16</td>\n",
              "      <td>0.26</td>\n",
              "      <td>6</td>\n",
              "      <td>GP OOH VCH</td>\n",
              "      <td>VICTORIA CENTRAL HOSPITAL</td>\n",
              "      <td>MILL LANE</td>\n",
              "      <td>WALLASEY</td>\n",
              "      <td>NaN</td>\n",
              "      <td>CH44 5UF</td>\n",
              "    </tr>\n",
              "  </tbody>\n",
              "</table>\n",
              "</div>"
            ],
            "text/plain": [
              "  practice   bnf_code                              bnf_name  items   nic  \\\n",
              "0   N85639  0106020C0                 Bisacodyl_Tab E/C 5mg      1  0.39   \n",
              "1   N85639  0106040M0      Movicol Plain_Paed Pdr Sach 6.9g      1  4.38   \n",
              "2   N85639  0301011R0    Salbutamol_Inha 100mcg (200 D) CFF      1  1.50   \n",
              "3   N85639  0304010G0  Chlorphenamine Mal_Oral Soln 2mg/5ml      1  2.62   \n",
              "4   N85639  0401020K0                      Diazepam_Tab 2mg      1  0.16   \n",
              "\n",
              "   act_cost  quantity        name                     addr_1     addr_2  \\\n",
              "0      0.47        12  GP OOH VCH  VICTORIA CENTRAL HOSPITAL  MILL LANE   \n",
              "1      4.07        30  GP OOH VCH  VICTORIA CENTRAL HOSPITAL  MILL LANE   \n",
              "2      1.40         1  GP OOH VCH  VICTORIA CENTRAL HOSPITAL  MILL LANE   \n",
              "3      2.44       150  GP OOH VCH  VICTORIA CENTRAL HOSPITAL  MILL LANE   \n",
              "4      0.26         6  GP OOH VCH  VICTORIA CENTRAL HOSPITAL  MILL LANE   \n",
              "\n",
              "    borough village post_code  \n",
              "0  WALLASEY     NaN  CH44 5UF  \n",
              "1  WALLASEY     NaN  CH44 5UF  \n",
              "2  WALLASEY     NaN  CH44 5UF  \n",
              "3  WALLASEY     NaN  CH44 5UF  \n",
              "4  WALLASEY     NaN  CH44 5UF  "
            ]
          },
          "metadata": {
            "tags": []
          },
          "execution_count": 67
        }
      ]
    },
    {
      "cell_type": "code",
      "metadata": {
        "id": "QApXmiKIKBHy",
        "colab_type": "code",
        "outputId": "97edd747-0cf7-4452-cdd3-e0b8d5185d73",
        "colab": {}
      },
      "source": [
        "practices['post_code'].nunique()"
      ],
      "execution_count": 0,
      "outputs": [
        {
          "output_type": "execute_result",
          "data": {
            "text/plain": [
              "8306"
            ]
          },
          "metadata": {
            "tags": []
          },
          "execution_count": 68
        }
      ]
    },
    {
      "cell_type": "code",
      "metadata": {
        "id": "cdEqjh1qKBH8",
        "colab_type": "code",
        "outputId": "e8b48f9b-13cf-4b33-feaa-1ba29f90f9d7",
        "colab": {}
      },
      "source": [
        "test=merge_df.groupby(['post_code','bnf_name']).agg({'items':'sum'})\n",
        "test"
      ],
      "execution_count": 0,
      "outputs": [
        {
          "output_type": "execute_result",
          "data": {
            "text/html": [
              "<div>\n",
              "<style>\n",
              "    .dataframe thead tr:only-child th {\n",
              "        text-align: right;\n",
              "    }\n",
              "\n",
              "    .dataframe thead th {\n",
              "        text-align: left;\n",
              "    }\n",
              "\n",
              "    .dataframe tbody tr th {\n",
              "        vertical-align: top;\n",
              "    }\n",
              "</style>\n",
              "<table border=\"1\" class=\"dataframe\">\n",
              "  <thead>\n",
              "    <tr style=\"text-align: right;\">\n",
              "      <th></th>\n",
              "      <th></th>\n",
              "      <th>items</th>\n",
              "    </tr>\n",
              "    <tr>\n",
              "      <th>post_code</th>\n",
              "      <th>bnf_name</th>\n",
              "      <th></th>\n",
              "    </tr>\n",
              "  </thead>\n",
              "  <tbody>\n",
              "    <tr>\n",
              "      <th rowspan=\"30\" valign=\"top\">B11 4BW</th>\n",
              "      <th>3m Health Care_Cavilon Durable Barrier C</th>\n",
              "      <td>7</td>\n",
              "    </tr>\n",
              "    <tr>\n",
              "      <th>3m Health Care_Cavilon No Sting Barrier</th>\n",
              "      <td>2</td>\n",
              "    </tr>\n",
              "    <tr>\n",
              "      <th>Abasaglar KwikPen_100u/ml 3ml Pf Pen</th>\n",
              "      <td>2</td>\n",
              "    </tr>\n",
              "    <tr>\n",
              "      <th>Abidec_Dps</th>\n",
              "      <td>63</td>\n",
              "    </tr>\n",
              "    <tr>\n",
              "      <th>Able Spacer + Sml/Med Mask</th>\n",
              "      <td>1</td>\n",
              "    </tr>\n",
              "    <tr>\n",
              "      <th>Accrete D3_Tab</th>\n",
              "      <td>24</td>\n",
              "    </tr>\n",
              "    <tr>\n",
              "      <th>Acetazolamide_Tab 250mg</th>\n",
              "      <td>2</td>\n",
              "    </tr>\n",
              "    <tr>\n",
              "      <th>Acetic Acid_Ear Spy 2% 5ml</th>\n",
              "      <td>9</td>\n",
              "    </tr>\n",
              "    <tr>\n",
              "      <th>Acetylcy_Tab 600mg</th>\n",
              "      <td>2</td>\n",
              "    </tr>\n",
              "    <tr>\n",
              "      <th>Aciclovir_Crm 5%</th>\n",
              "      <td>13</td>\n",
              "    </tr>\n",
              "    <tr>\n",
              "      <th>Aciclovir_Oral Susp 400mg/5ml S/F</th>\n",
              "      <td>1</td>\n",
              "    </tr>\n",
              "    <tr>\n",
              "      <th>Aciclovir_Tab 200mg</th>\n",
              "      <td>4</td>\n",
              "    </tr>\n",
              "    <tr>\n",
              "      <th>Aciclovir_Tab 800mg</th>\n",
              "      <td>9</td>\n",
              "    </tr>\n",
              "    <tr>\n",
              "      <th>Aciclovir_Tab Disper 200mg</th>\n",
              "      <td>1</td>\n",
              "    </tr>\n",
              "    <tr>\n",
              "      <th>Aciclovir_Tab Disper 400mg</th>\n",
              "      <td>2</td>\n",
              "    </tr>\n",
              "    <tr>\n",
              "      <th>Aciferol D3_Cap 50 000u</th>\n",
              "      <td>2</td>\n",
              "    </tr>\n",
              "    <tr>\n",
              "      <th>Aclidinium Brom_Pdr For Inh 375mcg (60D)</th>\n",
              "      <td>4</td>\n",
              "    </tr>\n",
              "    <tr>\n",
              "      <th>Acnecide_Aq Gel 5%</th>\n",
              "      <td>1</td>\n",
              "    </tr>\n",
              "    <tr>\n",
              "      <th>ActiLymph Class 1 B/Knee Closed Toe Blk</th>\n",
              "      <td>1</td>\n",
              "    </tr>\n",
              "    <tr>\n",
              "      <th>Active (Reagent)_Strips</th>\n",
              "      <td>1</td>\n",
              "    </tr>\n",
              "    <tr>\n",
              "      <th>Adalat LA 20_Tab 20mg</th>\n",
              "      <td>2</td>\n",
              "    </tr>\n",
              "    <tr>\n",
              "      <th>Adalat LA 30_Tab 30mg</th>\n",
              "      <td>3</td>\n",
              "    </tr>\n",
              "    <tr>\n",
              "      <th>Adalat LA 60_Tab 60mg</th>\n",
              "      <td>11</td>\n",
              "    </tr>\n",
              "    <tr>\n",
              "      <th>Adapalene/Benzoyl Per_Gel 0.1%/2.5%</th>\n",
              "      <td>3</td>\n",
              "    </tr>\n",
              "    <tr>\n",
              "      <th>Adapalene_Gel 0.1%</th>\n",
              "      <td>1</td>\n",
              "    </tr>\n",
              "    <tr>\n",
              "      <th>Adcal-D3_Capl 750mg/200u</th>\n",
              "      <td>48</td>\n",
              "    </tr>\n",
              "    <tr>\n",
              "      <th>Adcal-D3_Dissolve Tab Eff 1.5g/400u(Lem)</th>\n",
              "      <td>8</td>\n",
              "    </tr>\n",
              "    <tr>\n",
              "      <th>Adcal-D3_Tab Chble (Lem)</th>\n",
              "      <td>7</td>\n",
              "    </tr>\n",
              "    <tr>\n",
              "      <th>Adcal-D3_Tab Chble (Tutti-Frutti)</th>\n",
              "      <td>48</td>\n",
              "    </tr>\n",
              "    <tr>\n",
              "      <th>Adcal_Tab Chble 1.5g</th>\n",
              "      <td>3</td>\n",
              "    </tr>\n",
              "    <tr>\n",
              "      <th>...</th>\n",
              "      <th>...</th>\n",
              "      <td>...</td>\n",
              "    </tr>\n",
              "    <tr>\n",
              "      <th rowspan=\"30\" valign=\"top\">YO16 4LZ</th>\n",
              "      <th>Zocor_Tab 20mg</th>\n",
              "      <td>1</td>\n",
              "    </tr>\n",
              "    <tr>\n",
              "      <th>Zoely_Tab 2.5mg/1.5mg</th>\n",
              "      <td>2</td>\n",
              "    </tr>\n",
              "    <tr>\n",
              "      <th>Zoladex LA_Implant 10.8mg SafeSystem Pfs</th>\n",
              "      <td>10</td>\n",
              "    </tr>\n",
              "    <tr>\n",
              "      <th>Zoladex_Implant 3.6mg SafeSystem Pfs</th>\n",
              "      <td>3</td>\n",
              "    </tr>\n",
              "    <tr>\n",
              "      <th>Zolmitriptan_Nsl Spy 5mg/0.1ml Ud</th>\n",
              "      <td>1</td>\n",
              "    </tr>\n",
              "    <tr>\n",
              "      <th>Zolmitriptan_Tab 2.5mg</th>\n",
              "      <td>7</td>\n",
              "    </tr>\n",
              "    <tr>\n",
              "      <th>Zolpidem Tart_Tab 10mg</th>\n",
              "      <td>5</td>\n",
              "    </tr>\n",
              "    <tr>\n",
              "      <th>Zolpidem Tart_Tab 5mg</th>\n",
              "      <td>4</td>\n",
              "    </tr>\n",
              "    <tr>\n",
              "      <th>Zolvera_Oral Soln 40mg/5ml S/F</th>\n",
              "      <td>1</td>\n",
              "    </tr>\n",
              "    <tr>\n",
              "      <th>Zomig_Nsl Spy 5mg/0.1ml Ud</th>\n",
              "      <td>1</td>\n",
              "    </tr>\n",
              "    <tr>\n",
              "      <th>Zomorph_Cap 100mg</th>\n",
              "      <td>7</td>\n",
              "    </tr>\n",
              "    <tr>\n",
              "      <th>Zomorph_Cap 10mg</th>\n",
              "      <td>57</td>\n",
              "    </tr>\n",
              "    <tr>\n",
              "      <th>Zomorph_Cap 30mg</th>\n",
              "      <td>33</td>\n",
              "    </tr>\n",
              "    <tr>\n",
              "      <th>Zomorph_Cap 60mg</th>\n",
              "      <td>10</td>\n",
              "    </tr>\n",
              "    <tr>\n",
              "      <th>Zonegran_Cap 100mg</th>\n",
              "      <td>1</td>\n",
              "    </tr>\n",
              "    <tr>\n",
              "      <th>Zonegran_Cap 25mg</th>\n",
              "      <td>1</td>\n",
              "    </tr>\n",
              "    <tr>\n",
              "      <th>Zonisamide_Cap 100mg</th>\n",
              "      <td>2</td>\n",
              "    </tr>\n",
              "    <tr>\n",
              "      <th>Zopiclone_Tab 3.75mg</th>\n",
              "      <td>79</td>\n",
              "    </tr>\n",
              "    <tr>\n",
              "      <th>Zopiclone_Tab 7.5mg</th>\n",
              "      <td>86</td>\n",
              "    </tr>\n",
              "    <tr>\n",
              "      <th>Zoton_FasTab Tab 15mg</th>\n",
              "      <td>1</td>\n",
              "    </tr>\n",
              "    <tr>\n",
              "      <th>Zoton_FasTab Tab 30mg</th>\n",
              "      <td>2</td>\n",
              "    </tr>\n",
              "    <tr>\n",
              "      <th>Zuclopenth Decan_Inj 500mg/ml 1ml Amp</th>\n",
              "      <td>1</td>\n",
              "    </tr>\n",
              "    <tr>\n",
              "      <th>Zuclopenth HCl_Tab 25mg</th>\n",
              "      <td>6</td>\n",
              "    </tr>\n",
              "    <tr>\n",
              "      <th>Zumenon_Tab 2mg</th>\n",
              "      <td>1</td>\n",
              "    </tr>\n",
              "    <tr>\n",
              "      <th>Zydol SR_Tab 200mg</th>\n",
              "      <td>1</td>\n",
              "    </tr>\n",
              "    <tr>\n",
              "      <th>Zydol SR_Tab 50mg</th>\n",
              "      <td>1</td>\n",
              "    </tr>\n",
              "    <tr>\n",
              "      <th>easiGRIP 12cm x 1m Stkntte Elasctd Tublr</th>\n",
              "      <td>1</td>\n",
              "    </tr>\n",
              "    <tr>\n",
              "      <th>iMEDicare SomaCorrect Xtra Vacuum Pump</th>\n",
              "      <td>1</td>\n",
              "    </tr>\n",
              "    <tr>\n",
              "      <th>iMEDicare_Urine Collection Bag 500ml</th>\n",
              "      <td>1</td>\n",
              "    </tr>\n",
              "    <tr>\n",
              "      <th>kliniderm superabsorbent 20cm x 30cm Pfa</th>\n",
              "      <td>1</td>\n",
              "    </tr>\n",
              "  </tbody>\n",
              "</table>\n",
              "<p>579197 rows × 1 columns</p>\n",
              "</div>"
            ],
            "text/plain": [
              "                                                    items\n",
              "post_code bnf_name                                       \n",
              "B11 4BW   3m Health Care_Cavilon Durable Barrier C      7\n",
              "          3m Health Care_Cavilon No Sting Barrier       2\n",
              "          Abasaglar KwikPen_100u/ml 3ml Pf Pen          2\n",
              "          Abidec_Dps                                   63\n",
              "          Able Spacer + Sml/Med Mask                    1\n",
              "          Accrete D3_Tab                               24\n",
              "          Acetazolamide_Tab 250mg                       2\n",
              "          Acetic Acid_Ear Spy 2% 5ml                    9\n",
              "          Acetylcy_Tab 600mg                            2\n",
              "          Aciclovir_Crm 5%                             13\n",
              "          Aciclovir_Oral Susp 400mg/5ml S/F             1\n",
              "          Aciclovir_Tab 200mg                           4\n",
              "          Aciclovir_Tab 800mg                           9\n",
              "          Aciclovir_Tab Disper 200mg                    1\n",
              "          Aciclovir_Tab Disper 400mg                    2\n",
              "          Aciferol D3_Cap 50 000u                       2\n",
              "          Aclidinium Brom_Pdr For Inh 375mcg (60D)      4\n",
              "          Acnecide_Aq Gel 5%                            1\n",
              "          ActiLymph Class 1 B/Knee Closed Toe Blk       1\n",
              "          Active (Reagent)_Strips                       1\n",
              "          Adalat LA 20_Tab 20mg                         2\n",
              "          Adalat LA 30_Tab 30mg                         3\n",
              "          Adalat LA 60_Tab 60mg                        11\n",
              "          Adapalene/Benzoyl Per_Gel 0.1%/2.5%           3\n",
              "          Adapalene_Gel 0.1%                            1\n",
              "          Adcal-D3_Capl 750mg/200u                     48\n",
              "          Adcal-D3_Dissolve Tab Eff 1.5g/400u(Lem)      8\n",
              "          Adcal-D3_Tab Chble (Lem)                      7\n",
              "          Adcal-D3_Tab Chble (Tutti-Frutti)            48\n",
              "          Adcal_Tab Chble 1.5g                          3\n",
              "...                                                   ...\n",
              "YO16 4LZ  Zocor_Tab 20mg                                1\n",
              "          Zoely_Tab 2.5mg/1.5mg                         2\n",
              "          Zoladex LA_Implant 10.8mg SafeSystem Pfs     10\n",
              "          Zoladex_Implant 3.6mg SafeSystem Pfs          3\n",
              "          Zolmitriptan_Nsl Spy 5mg/0.1ml Ud             1\n",
              "          Zolmitriptan_Tab 2.5mg                        7\n",
              "          Zolpidem Tart_Tab 10mg                        5\n",
              "          Zolpidem Tart_Tab 5mg                         4\n",
              "          Zolvera_Oral Soln 40mg/5ml S/F                1\n",
              "          Zomig_Nsl Spy 5mg/0.1ml Ud                    1\n",
              "          Zomorph_Cap 100mg                             7\n",
              "          Zomorph_Cap 10mg                             57\n",
              "          Zomorph_Cap 30mg                             33\n",
              "          Zomorph_Cap 60mg                             10\n",
              "          Zonegran_Cap 100mg                            1\n",
              "          Zonegran_Cap 25mg                             1\n",
              "          Zonisamide_Cap 100mg                          2\n",
              "          Zopiclone_Tab 3.75mg                         79\n",
              "          Zopiclone_Tab 7.5mg                          86\n",
              "          Zoton_FasTab Tab 15mg                         1\n",
              "          Zoton_FasTab Tab 30mg                         2\n",
              "          Zuclopenth Decan_Inj 500mg/ml 1ml Amp         1\n",
              "          Zuclopenth HCl_Tab 25mg                       6\n",
              "          Zumenon_Tab 2mg                               1\n",
              "          Zydol SR_Tab 200mg                            1\n",
              "          Zydol SR_Tab 50mg                             1\n",
              "          easiGRIP 12cm x 1m Stkntte Elasctd Tublr      1\n",
              "          iMEDicare SomaCorrect Xtra Vacuum Pump        1\n",
              "          iMEDicare_Urine Collection Bag 500ml          1\n",
              "          kliniderm superabsorbent 20cm x 30cm Pfa      1\n",
              "\n",
              "[579197 rows x 1 columns]"
            ]
          },
          "metadata": {
            "tags": []
          },
          "execution_count": 70
        }
      ]
    },
    {
      "cell_type": "code",
      "metadata": {
        "id": "JkMvaySHKBIF",
        "colab_type": "code",
        "colab": {}
      },
      "source": [
        "total_items_by_post=merge_df.groupby('post_code')['items'].sum().to_frame('Max').reset_index()"
      ],
      "execution_count": 0,
      "outputs": []
    },
    {
      "cell_type": "code",
      "metadata": {
        "id": "zbEALL1pKBIP",
        "colab_type": "code",
        "colab": {}
      },
      "source": [
        "max_items_by_post=test.reset_index().sort_values(by=['items','bnf_name'],ascending=False).drop_duplicates(subset='post_code',keep='first').sort_values(by='post_code')"
      ],
      "execution_count": 0,
      "outputs": []
    },
    {
      "cell_type": "code",
      "metadata": {
        "id": "gnr-_1FiKBIZ",
        "colab_type": "code",
        "colab": {}
      },
      "source": [
        "items_by_post=max_items_by_post.merge(total_items_by_post, on='post_code')"
      ],
      "execution_count": 0,
      "outputs": []
    },
    {
      "cell_type": "code",
      "metadata": {
        "id": "4yeWV_oIKBId",
        "colab_type": "code",
        "colab": {}
      },
      "source": [
        "items_by_post['proportion']=items_by_post['items']/items_by_post['Max']"
      ],
      "execution_count": 0,
      "outputs": []
    },
    {
      "cell_type": "code",
      "metadata": {
        "id": "ToeFvUmEKBIk",
        "colab_type": "code",
        "colab": {}
      },
      "source": [
        "items_by_region = list(items_by_post.drop(labels=['items','Max'], axis=1).itertuples(index=False))[:100]"
      ],
      "execution_count": 0,
      "outputs": []
    },
    {
      "cell_type": "code",
      "metadata": {
        "id": "N8rNS9tPKBIo",
        "colab_type": "code",
        "outputId": "40f751b2-cf6c-4e3a-91db-3ff7d88b98bb",
        "colab": {}
      },
      "source": [
        "grader.score.dw__items_by_region(items_by_region)"
      ],
      "execution_count": 0,
      "outputs": [
        {
          "output_type": "stream",
          "text": [
            "==================\n",
            "Your score:  1.0\n",
            "==================\n"
          ],
          "name": "stdout"
        }
      ]
    },
    {
      "cell_type": "markdown",
      "metadata": {
        "id": "Ad_7KdxHKBIt",
        "colab_type": "text"
      },
      "source": [
        "## Question 4: script_anomalies\n",
        "\n",
        "Drug abuse is a source of human and monetary costs in health care. A first step in identifying practitioners that enable drug abuse is to look for practices where commonly abused drugs are prescribed unusually often. Let's try to find practices that prescribe an unusually high amount of opioids. The opioids we'll look for are given in the list below."
      ]
    },
    {
      "cell_type": "code",
      "metadata": {
        "id": "0IEBVfe7KBIu",
        "colab_type": "code",
        "colab": {}
      },
      "source": [
        "opioids = ['morphine', 'oxycodone', 'methadone', 'fentanyl', 'pethidine', 'buprenorphine', 'propoxyphene', 'codeine']"
      ],
      "execution_count": 0,
      "outputs": []
    },
    {
      "cell_type": "markdown",
      "metadata": {
        "id": "DJdfKjnpKBIy",
        "colab_type": "text"
      },
      "source": [
        "These are generic names for drugs, not brand names. Generic drug names can be found using the `'bnf_code'` field in `scripts` along with the `chem` table.. Use the list of opioids provided above along with these fields to make a new field in the `scripts` data that flags whether the row corresponds with a opioid prescription."
      ]
    },
    {
      "cell_type": "code",
      "metadata": {
        "id": "kfBWf3M8KBIz",
        "colab_type": "code",
        "colab": {}
      },
      "source": [
        "#Single line/Inline implementation\n",
        "#bnf_name=(pd.DataFrame(scripts[['bnf_name','bnf_code']])).sort_values(by=['bnf_name']).drop_duplicates(subset=['bnf_name'],keep='first').reset_index().drop(labels=['index'],axis=1)"
      ],
      "execution_count": 0,
      "outputs": []
    },
    {
      "cell_type": "code",
      "metadata": {
        "id": "Db3dVEqxKBI3",
        "colab_type": "code",
        "outputId": "68d4584c-8afc-41de-ccad-d97d6ea6ba7e",
        "colab": {}
      },
      "source": [
        "chem.head()"
      ],
      "execution_count": 0,
      "outputs": [
        {
          "output_type": "execute_result",
          "data": {
            "text/html": [
              "<div>\n",
              "<style>\n",
              "    .dataframe thead tr:only-child th {\n",
              "        text-align: right;\n",
              "    }\n",
              "\n",
              "    .dataframe thead th {\n",
              "        text-align: left;\n",
              "    }\n",
              "\n",
              "    .dataframe tbody tr th {\n",
              "        vertical-align: top;\n",
              "    }\n",
              "</style>\n",
              "<table border=\"1\" class=\"dataframe\">\n",
              "  <thead>\n",
              "    <tr style=\"text-align: right;\">\n",
              "      <th></th>\n",
              "      <th>CHEM SUB</th>\n",
              "      <th>NAME</th>\n",
              "    </tr>\n",
              "  </thead>\n",
              "  <tbody>\n",
              "    <tr>\n",
              "      <th>0</th>\n",
              "      <td>0101010A0</td>\n",
              "      <td>Alexitol Sodium</td>\n",
              "    </tr>\n",
              "    <tr>\n",
              "      <th>1</th>\n",
              "      <td>0101010B0</td>\n",
              "      <td>Almasilate</td>\n",
              "    </tr>\n",
              "    <tr>\n",
              "      <th>2</th>\n",
              "      <td>0101010C0</td>\n",
              "      <td>Aluminium Hydroxide</td>\n",
              "    </tr>\n",
              "    <tr>\n",
              "      <th>3</th>\n",
              "      <td>0101010D0</td>\n",
              "      <td>Aluminium Hydroxide With Magnesium</td>\n",
              "    </tr>\n",
              "    <tr>\n",
              "      <th>4</th>\n",
              "      <td>0101010E0</td>\n",
              "      <td>Hydrotalcite</td>\n",
              "    </tr>\n",
              "  </tbody>\n",
              "</table>\n",
              "</div>"
            ],
            "text/plain": [
              "    CHEM SUB                                NAME\n",
              "0  0101010A0                     Alexitol Sodium\n",
              "1  0101010B0                          Almasilate\n",
              "2  0101010C0                 Aluminium Hydroxide\n",
              "3  0101010D0  Aluminium Hydroxide With Magnesium\n",
              "4  0101010E0                        Hydrotalcite"
            ]
          },
          "metadata": {
            "tags": []
          },
          "execution_count": 11
        }
      ]
    },
    {
      "cell_type": "code",
      "metadata": {
        "id": "bytQ_NooKBI7",
        "colab_type": "code",
        "colab": {}
      },
      "source": [
        "import re\n",
        "def is_opioid(attr):\n",
        "    for x in opioids:\n",
        "        if re.search(x.lower(), attr.lower()):\n",
        "            return True"
      ],
      "execution_count": 0,
      "outputs": []
    },
    {
      "cell_type": "code",
      "metadata": {
        "id": "DulPRw0SKBI-",
        "colab_type": "code",
        "colab": {}
      },
      "source": [
        "chem['is_opioids']=chem['NAME'].apply(is_opioid).fillna(False)"
      ],
      "execution_count": 0,
      "outputs": []
    },
    {
      "cell_type": "code",
      "metadata": {
        "id": "QH2GeLUIKBJC",
        "colab_type": "code",
        "outputId": "ecd15a77-6f7e-4181-cc85-e67e1b996f48",
        "colab": {}
      },
      "source": [
        "new_scripts=scripts.merge(chem.drop_duplicates(subset=['CHEM SUB'], keep='first'),left_on='bnf_code',right_on='CHEM SUB',how='left').drop(labels='NAME',axis=1)\n",
        "new_scripts['is_opioids'].fillna(False, inplace=True)\n",
        "new_scripts[new_scripts['is_opioids']].shape"
      ],
      "execution_count": 0,
      "outputs": [
        {
          "output_type": "execute_result",
          "data": {
            "text/plain": [
              "(34843, 9)"
            ]
          },
          "metadata": {
            "tags": []
          },
          "execution_count": 167
        }
      ]
    },
    {
      "cell_type": "code",
      "metadata": {
        "id": "DQvRJqlFKBJF",
        "colab_type": "code",
        "outputId": "31776664-7066-4ffa-97a9-77078c30b6f5",
        "colab": {}
      },
      "source": [
        "chem[chem['is_opioids']]"
      ],
      "execution_count": 0,
      "outputs": [
        {
          "output_type": "execute_result",
          "data": {
            "text/html": [
              "<div>\n",
              "<style>\n",
              "    .dataframe thead tr:only-child th {\n",
              "        text-align: right;\n",
              "    }\n",
              "\n",
              "    .dataframe thead th {\n",
              "        text-align: left;\n",
              "    }\n",
              "\n",
              "    .dataframe tbody tr th {\n",
              "        vertical-align: top;\n",
              "    }\n",
              "</style>\n",
              "<table border=\"1\" class=\"dataframe\">\n",
              "  <thead>\n",
              "    <tr style=\"text-align: right;\">\n",
              "      <th></th>\n",
              "      <th>CHEM SUB</th>\n",
              "      <th>NAME</th>\n",
              "      <th>is_opioids</th>\n",
              "    </tr>\n",
              "  </thead>\n",
              "  <tbody>\n",
              "    <tr>\n",
              "      <th>88</th>\n",
              "      <td>0104020D0</td>\n",
              "      <td>Codeine Phosphate Compound Mixtures</td>\n",
              "      <td>True</td>\n",
              "    </tr>\n",
              "    <tr>\n",
              "      <th>91</th>\n",
              "      <td>0104020N0</td>\n",
              "      <td>Opium &amp; Morphine</td>\n",
              "      <td>True</td>\n",
              "    </tr>\n",
              "    <tr>\n",
              "      <th>691</th>\n",
              "      <td>0309010C0</td>\n",
              "      <td>Codeine Phosphate</td>\n",
              "      <td>True</td>\n",
              "    </tr>\n",
              "    <tr>\n",
              "      <th>693</th>\n",
              "      <td>0309010N0</td>\n",
              "      <td>Diamorphine Hydrochloride</td>\n",
              "      <td>True</td>\n",
              "    </tr>\n",
              "    <tr>\n",
              "      <th>695</th>\n",
              "      <td>0309010S0</td>\n",
              "      <td>Methadone Hydrochloride</td>\n",
              "      <td>True</td>\n",
              "    </tr>\n",
              "    <tr>\n",
              "      <th>701</th>\n",
              "      <td>0309020AC</td>\n",
              "      <td>Guaiacol &amp; Codeine</td>\n",
              "      <td>True</td>\n",
              "    </tr>\n",
              "    <tr>\n",
              "      <th>955</th>\n",
              "      <td>0407010F0</td>\n",
              "      <td>Co-Codamol (Codeine Phos/Paracetamol)</td>\n",
              "      <td>True</td>\n",
              "    </tr>\n",
              "    <tr>\n",
              "      <th>959</th>\n",
              "      <td>0407010M0</td>\n",
              "      <td>Co-Codaprin (Codeine Phos/Aspirin)</td>\n",
              "      <td>True</td>\n",
              "    </tr>\n",
              "    <tr>\n",
              "      <th>960</th>\n",
              "      <td>0407010N0</td>\n",
              "      <td>Co-Dydramol (Dihydrocodeine/Paracet)</td>\n",
              "      <td>True</td>\n",
              "    </tr>\n",
              "    <tr>\n",
              "      <th>963</th>\n",
              "      <td>0407010R0</td>\n",
              "      <td>Aspirin Phenacetin &amp; Codeine(Codeine Co)</td>\n",
              "      <td>True</td>\n",
              "    </tr>\n",
              "    <tr>\n",
              "      <th>965</th>\n",
              "      <td>0407010T0</td>\n",
              "      <td>Aspirin Paracetamol &amp; Codeine</td>\n",
              "      <td>True</td>\n",
              "    </tr>\n",
              "    <tr>\n",
              "      <th>967</th>\n",
              "      <td>0407010V0</td>\n",
              "      <td>Paracetamol &amp; Codeine Phosphate</td>\n",
              "      <td>True</td>\n",
              "    </tr>\n",
              "    <tr>\n",
              "      <th>977</th>\n",
              "      <td>0407020AD</td>\n",
              "      <td>Oxycodone Hydrochloride</td>\n",
              "      <td>True</td>\n",
              "    </tr>\n",
              "    <tr>\n",
              "      <th>978</th>\n",
              "      <td>0407020AE</td>\n",
              "      <td>Diamorphine Hydrochloride (Top)</td>\n",
              "      <td>True</td>\n",
              "    </tr>\n",
              "    <tr>\n",
              "      <th>979</th>\n",
              "      <td>0407020AF</td>\n",
              "      <td>Oxycodone HCl/Naloxone HCl</td>\n",
              "      <td>True</td>\n",
              "    </tr>\n",
              "    <tr>\n",
              "      <th>981</th>\n",
              "      <td>0407020A0</td>\n",
              "      <td>Fentanyl</td>\n",
              "      <td>True</td>\n",
              "    </tr>\n",
              "    <tr>\n",
              "      <th>982</th>\n",
              "      <td>0407020B0</td>\n",
              "      <td>Buprenorphine</td>\n",
              "      <td>True</td>\n",
              "    </tr>\n",
              "    <tr>\n",
              "      <th>983</th>\n",
              "      <td>0407020C0</td>\n",
              "      <td>Codeine Phosphate</td>\n",
              "      <td>True</td>\n",
              "    </tr>\n",
              "    <tr>\n",
              "      <th>985</th>\n",
              "      <td>0407020E0</td>\n",
              "      <td>Dextropropoxyphene</td>\n",
              "      <td>True</td>\n",
              "    </tr>\n",
              "    <tr>\n",
              "      <th>986</th>\n",
              "      <td>0407020G0</td>\n",
              "      <td>Dihydrocodeine Tartrate</td>\n",
              "      <td>True</td>\n",
              "    </tr>\n",
              "    <tr>\n",
              "      <th>989</th>\n",
              "      <td>0407020K0</td>\n",
              "      <td>Diamorphine Hydrochloride (Systemic)</td>\n",
              "      <td>True</td>\n",
              "    </tr>\n",
              "    <tr>\n",
              "      <th>991</th>\n",
              "      <td>0407020M0</td>\n",
              "      <td>Methadone Hydrochloride</td>\n",
              "      <td>True</td>\n",
              "    </tr>\n",
              "    <tr>\n",
              "      <th>992</th>\n",
              "      <td>0407020N0</td>\n",
              "      <td>Morphine</td>\n",
              "      <td>True</td>\n",
              "    </tr>\n",
              "    <tr>\n",
              "      <th>993</th>\n",
              "      <td>0407020P0</td>\n",
              "      <td>Morphine Hydrochloride</td>\n",
              "      <td>True</td>\n",
              "    </tr>\n",
              "    <tr>\n",
              "      <th>994</th>\n",
              "      <td>0407020Q0</td>\n",
              "      <td>Morphine Sulfate</td>\n",
              "      <td>True</td>\n",
              "    </tr>\n",
              "    <tr>\n",
              "      <th>997</th>\n",
              "      <td>0407020V0</td>\n",
              "      <td>Pethidine Hydrochloride</td>\n",
              "      <td>True</td>\n",
              "    </tr>\n",
              "    <tr>\n",
              "      <th>1001</th>\n",
              "      <td>0407020Z0</td>\n",
              "      <td>Oxycodone</td>\n",
              "      <td>True</td>\n",
              "    </tr>\n",
              "    <tr>\n",
              "      <th>1002</th>\n",
              "      <td>040702010</td>\n",
              "      <td>Morphine Anhydrous</td>\n",
              "      <td>True</td>\n",
              "    </tr>\n",
              "    <tr>\n",
              "      <th>1003</th>\n",
              "      <td>040702020</td>\n",
              "      <td>Morphine Tartrate &amp; Cyclizine Tartrate</td>\n",
              "      <td>True</td>\n",
              "    </tr>\n",
              "    <tr>\n",
              "      <th>1072</th>\n",
              "      <td>0409010A0</td>\n",
              "      <td>Apomorphine Hydrochloride</td>\n",
              "      <td>True</td>\n",
              "    </tr>\n",
              "    <tr>\n",
              "      <th>1114</th>\n",
              "      <td>0410030A0</td>\n",
              "      <td>Buprenorphine Hydrochloride</td>\n",
              "      <td>True</td>\n",
              "    </tr>\n",
              "    <tr>\n",
              "      <th>1116</th>\n",
              "      <td>0410030C0</td>\n",
              "      <td>Methadone Hydrochloride</td>\n",
              "      <td>True</td>\n",
              "    </tr>\n",
              "    <tr>\n",
              "      <th>1816</th>\n",
              "      <td>0704050G0</td>\n",
              "      <td>Apomorphine Hydrochloride</td>\n",
              "      <td>True</td>\n",
              "    </tr>\n",
              "    <tr>\n",
              "      <th>3246</th>\n",
              "      <td>1501043F0</td>\n",
              "      <td>Fentanyl Citrate</td>\n",
              "      <td>True</td>\n",
              "    </tr>\n",
              "    <tr>\n",
              "      <th>3276</th>\n",
              "      <td>1502010Z0</td>\n",
              "      <td>Bupivacaine Hydrochloride &amp; Fentanyl Cit</td>\n",
              "      <td>True</td>\n",
              "    </tr>\n",
              "  </tbody>\n",
              "</table>\n",
              "</div>"
            ],
            "text/plain": [
              "       CHEM SUB                                      NAME  is_opioids\n",
              "88    0104020D0       Codeine Phosphate Compound Mixtures        True\n",
              "91    0104020N0                          Opium & Morphine        True\n",
              "691   0309010C0                         Codeine Phosphate        True\n",
              "693   0309010N0                 Diamorphine Hydrochloride        True\n",
              "695   0309010S0                   Methadone Hydrochloride        True\n",
              "701   0309020AC                        Guaiacol & Codeine        True\n",
              "955   0407010F0     Co-Codamol (Codeine Phos/Paracetamol)        True\n",
              "959   0407010M0        Co-Codaprin (Codeine Phos/Aspirin)        True\n",
              "960   0407010N0      Co-Dydramol (Dihydrocodeine/Paracet)        True\n",
              "963   0407010R0  Aspirin Phenacetin & Codeine(Codeine Co)        True\n",
              "965   0407010T0             Aspirin Paracetamol & Codeine        True\n",
              "967   0407010V0           Paracetamol & Codeine Phosphate        True\n",
              "977   0407020AD                   Oxycodone Hydrochloride        True\n",
              "978   0407020AE           Diamorphine Hydrochloride (Top)        True\n",
              "979   0407020AF                Oxycodone HCl/Naloxone HCl        True\n",
              "981   0407020A0                                  Fentanyl        True\n",
              "982   0407020B0                             Buprenorphine        True\n",
              "983   0407020C0                         Codeine Phosphate        True\n",
              "985   0407020E0                        Dextropropoxyphene        True\n",
              "986   0407020G0                   Dihydrocodeine Tartrate        True\n",
              "989   0407020K0      Diamorphine Hydrochloride (Systemic)        True\n",
              "991   0407020M0                   Methadone Hydrochloride        True\n",
              "992   0407020N0                                  Morphine        True\n",
              "993   0407020P0                    Morphine Hydrochloride        True\n",
              "994   0407020Q0                          Morphine Sulfate        True\n",
              "997   0407020V0                   Pethidine Hydrochloride        True\n",
              "1001  0407020Z0                                 Oxycodone        True\n",
              "1002  040702010                        Morphine Anhydrous        True\n",
              "1003  040702020    Morphine Tartrate & Cyclizine Tartrate        True\n",
              "1072  0409010A0                 Apomorphine Hydrochloride        True\n",
              "1114  0410030A0               Buprenorphine Hydrochloride        True\n",
              "1116  0410030C0                   Methadone Hydrochloride        True\n",
              "1816  0704050G0                 Apomorphine Hydrochloride        True\n",
              "3246  1501043F0                          Fentanyl Citrate        True\n",
              "3276  1502010Z0  Bupivacaine Hydrochloride & Fentanyl Cit        True"
            ]
          },
          "metadata": {
            "tags": []
          },
          "execution_count": 110
        }
      ]
    },
    {
      "cell_type": "code",
      "metadata": {
        "id": "_xOp3WbVKBJJ",
        "colab_type": "code",
        "outputId": "88e18659-595a-4494-c4ab-075071603db4",
        "colab": {}
      },
      "source": [
        "drug_Names_df = scripts.join(chem.drop_duplicates(subset='CHEM SUB',keep='first').set_index('CHEM SUB'),on='bnf_code', how='left', )\n",
        "my_string = \"|\".join(opioids)\n",
        "my_string = my_string[1:] \n",
        "opioids_attr = drug_Names_df['NAME'].str.contains(my_string, regex=True, case=False) \n",
        "drug_Names_df['opioids'] = opioids_attr \n",
        "drug_Names_df['opioids'].fillna(False, inplace = True) \n",
        "drug_Names_df['opioids'].mean()"
      ],
      "execution_count": 0,
      "outputs": [
        {
          "output_type": "execute_result",
          "data": {
            "text/plain": [
              "0.03580276471367961"
            ]
          },
          "metadata": {
            "tags": []
          },
          "execution_count": 183
        }
      ]
    },
    {
      "cell_type": "code",
      "metadata": {
        "id": "-gEQMBxVKBJP",
        "colab_type": "code",
        "outputId": "1b27f78e-b692-495c-bb66-ab0795efa856",
        "colab": {}
      },
      "source": [
        "drug_Names_df[drug_Names_df['opioids']].shape"
      ],
      "execution_count": 0,
      "outputs": [
        {
          "output_type": "execute_result",
          "data": {
            "text/plain": [
              "(34843, 9)"
            ]
          },
          "metadata": {
            "tags": []
          },
          "execution_count": 87
        }
      ]
    },
    {
      "cell_type": "code",
      "metadata": {
        "id": "2y4SfJkjKBJT",
        "colab_type": "code",
        "outputId": "dc6fccc1-2e19-42d1-8441-ce41c4e37b41",
        "colab": {}
      },
      "source": [
        "new_scripts.shape"
      ],
      "execution_count": 0,
      "outputs": [
        {
          "output_type": "execute_result",
          "data": {
            "text/plain": [
              "(974010, 9)"
            ]
          },
          "metadata": {
            "tags": []
          },
          "execution_count": 156
        }
      ]
    },
    {
      "cell_type": "code",
      "metadata": {
        "id": "1MwO32c8KBJZ",
        "colab_type": "code",
        "colab": {}
      },
      "source": [
        "bnf_name[bnf_name['bnf_name'].str.contains('codeine')]"
      ],
      "execution_count": 0,
      "outputs": []
    },
    {
      "cell_type": "code",
      "metadata": {
        "id": "cPsmyLWdKBJf",
        "colab_type": "code",
        "outputId": "ed4440c0-6414-4c0b-83bf-3cf417ad9019",
        "colab": {}
      },
      "source": [
        "bnf_name[bnf_name['bnf_name'].str.contains('Cyclizine')]"
      ],
      "execution_count": 0,
      "outputs": [
        {
          "output_type": "execute_result",
          "data": {
            "text/html": [
              "<div>\n",
              "<style>\n",
              "    .dataframe thead tr:only-child th {\n",
              "        text-align: right;\n",
              "    }\n",
              "\n",
              "    .dataframe thead th {\n",
              "        text-align: left;\n",
              "    }\n",
              "\n",
              "    .dataframe tbody tr th {\n",
              "        vertical-align: top;\n",
              "    }\n",
              "</style>\n",
              "<table border=\"1\" class=\"dataframe\">\n",
              "  <thead>\n",
              "    <tr style=\"text-align: right;\">\n",
              "      <th></th>\n",
              "      <th>bnf_name</th>\n",
              "      <th>bnf_code</th>\n",
              "      <th>opioids</th>\n",
              "    </tr>\n",
              "  </thead>\n",
              "  <tbody>\n",
              "    <tr>\n",
              "      <th>3399</th>\n",
              "      <td>Cyclizine HCl_Oral Soln 50mg/5ml</td>\n",
              "      <td>0406000F0</td>\n",
              "      <td>False</td>\n",
              "    </tr>\n",
              "    <tr>\n",
              "      <th>3400</th>\n",
              "      <td>Cyclizine HCl_Oral Susp 50mg/5ml</td>\n",
              "      <td>0406000F0</td>\n",
              "      <td>False</td>\n",
              "    </tr>\n",
              "    <tr>\n",
              "      <th>3401</th>\n",
              "      <td>Cyclizine HCl_Tab 50mg</td>\n",
              "      <td>0406000F0</td>\n",
              "      <td>False</td>\n",
              "    </tr>\n",
              "    <tr>\n",
              "      <th>3402</th>\n",
              "      <td>Cyclizine Lact_Inj 50mg/ml 1ml Amp</td>\n",
              "      <td>0406000G0</td>\n",
              "      <td>False</td>\n",
              "    </tr>\n",
              "    <tr>\n",
              "      <th>4017</th>\n",
              "      <td>Dipipanone HCl/Cyclizine HCl_Tab 10/30mg</td>\n",
              "      <td>0407020H0</td>\n",
              "      <td>False</td>\n",
              "    </tr>\n",
              "  </tbody>\n",
              "</table>\n",
              "</div>"
            ],
            "text/plain": [
              "                                      bnf_name   bnf_code  opioids\n",
              "3399          Cyclizine HCl_Oral Soln 50mg/5ml  0406000F0    False\n",
              "3400          Cyclizine HCl_Oral Susp 50mg/5ml  0406000F0    False\n",
              "3401                    Cyclizine HCl_Tab 50mg  0406000F0    False\n",
              "3402        Cyclizine Lact_Inj 50mg/ml 1ml Amp  0406000G0    False\n",
              "4017  Dipipanone HCl/Cyclizine HCl_Tab 10/30mg  0407020H0    False"
            ]
          },
          "metadata": {
            "tags": []
          },
          "execution_count": 220
        }
      ]
    },
    {
      "cell_type": "code",
      "metadata": {
        "id": "TNhJdot6KBJl",
        "colab_type": "code",
        "outputId": "3a164cd0-64bf-4203-8978-2b6a1de0fe26",
        "colab": {}
      },
      "source": [
        "new_scripts[new_scripts['is_opioids']].count()"
      ],
      "execution_count": 0,
      "outputs": [
        {
          "output_type": "execute_result",
          "data": {
            "text/plain": [
              "practice      34843\n",
              "bnf_code      34843\n",
              "bnf_name      34843\n",
              "items         34843\n",
              "nic           34843\n",
              "act_cost      34843\n",
              "quantity      34843\n",
              "CHEM SUB      34843\n",
              "is_opioids    34843\n",
              "dtype: int64"
            ]
          },
          "metadata": {
            "tags": []
          },
          "execution_count": 16
        }
      ]
    },
    {
      "cell_type": "code",
      "metadata": {
        "id": "HQ2EVoK5KBJq",
        "colab_type": "code",
        "outputId": "27ec870f-2ddf-404d-f8f7-9e762bcb7e4e",
        "colab": {}
      },
      "source": [
        "new_scripts.head(1)"
      ],
      "execution_count": 0,
      "outputs": [
        {
          "output_type": "execute_result",
          "data": {
            "text/html": [
              "<div>\n",
              "<style>\n",
              "    .dataframe thead tr:only-child th {\n",
              "        text-align: right;\n",
              "    }\n",
              "\n",
              "    .dataframe thead th {\n",
              "        text-align: left;\n",
              "    }\n",
              "\n",
              "    .dataframe tbody tr th {\n",
              "        vertical-align: top;\n",
              "    }\n",
              "</style>\n",
              "<table border=\"1\" class=\"dataframe\">\n",
              "  <thead>\n",
              "    <tr style=\"text-align: right;\">\n",
              "      <th></th>\n",
              "      <th>practice</th>\n",
              "      <th>bnf_code</th>\n",
              "      <th>bnf_name</th>\n",
              "      <th>items</th>\n",
              "      <th>nic</th>\n",
              "      <th>act_cost</th>\n",
              "      <th>quantity</th>\n",
              "      <th>CHEM SUB</th>\n",
              "      <th>is_opioids</th>\n",
              "    </tr>\n",
              "  </thead>\n",
              "  <tbody>\n",
              "    <tr>\n",
              "      <th>0</th>\n",
              "      <td>N85639</td>\n",
              "      <td>0106020C0</td>\n",
              "      <td>Bisacodyl_Tab E/C 5mg</td>\n",
              "      <td>1</td>\n",
              "      <td>0.39</td>\n",
              "      <td>0.47</td>\n",
              "      <td>12</td>\n",
              "      <td>0106020C0</td>\n",
              "      <td>False</td>\n",
              "    </tr>\n",
              "  </tbody>\n",
              "</table>\n",
              "</div>"
            ],
            "text/plain": [
              "  practice   bnf_code               bnf_name  items   nic  act_cost  quantity  \\\n",
              "0   N85639  0106020C0  Bisacodyl_Tab E/C 5mg      1  0.39      0.47        12   \n",
              "\n",
              "    CHEM SUB  is_opioids  \n",
              "0  0106020C0       False  "
            ]
          },
          "metadata": {
            "tags": []
          },
          "execution_count": 21
        }
      ]
    },
    {
      "cell_type": "code",
      "metadata": {
        "id": "sFZbb-K9KBJ2",
        "colab_type": "code",
        "outputId": "0edeb3a2-c5ed-4e9c-e238-682c9369bb79",
        "colab": {}
      },
      "source": [
        "overall_is_opioids=new_scripts['is_opioids'].mean()\n",
        "overall_is_opioids"
      ],
      "execution_count": 0,
      "outputs": [
        {
          "output_type": "execute_result",
          "data": {
            "text/plain": [
              "0.03580276471367961"
            ]
          },
          "metadata": {
            "tags": []
          },
          "execution_count": 168
        }
      ]
    },
    {
      "cell_type": "markdown",
      "metadata": {
        "id": "wU7USVr7KBJ5",
        "colab_type": "text"
      },
      "source": [
        "Now for each practice calculate the proportion of its prescriptions containing opioids.\n",
        "\n",
        "**Hint:** Consider the following list: `[0, 1, 1, 0, 0, 0]`. What proportion of the entries are 1s? What is the mean value?"
      ]
    },
    {
      "cell_type": "code",
      "metadata": {
        "id": "TEqfBKH2KBJ7",
        "colab_type": "code",
        "colab": {}
      },
      "source": [
        "opioids_per_practice = new_scripts.groupby('practice')['is_opioids'].mean()"
      ],
      "execution_count": 0,
      "outputs": []
    },
    {
      "cell_type": "code",
      "metadata": {
        "id": "l0ZYnm9cKBKA",
        "colab_type": "code",
        "outputId": "f0fda429-be49-40a4-ef3f-ab0e52a8ec21",
        "colab": {}
      },
      "source": [
        "opioids_per_practice['Y01852']"
      ],
      "execution_count": 0,
      "outputs": [
        {
          "output_type": "execute_result",
          "data": {
            "text/plain": [
              "0.8571428571428571"
            ]
          },
          "metadata": {
            "tags": []
          },
          "execution_count": 170
        }
      ]
    },
    {
      "cell_type": "markdown",
      "metadata": {
        "id": "wRGsjhXgKBKE",
        "colab_type": "text"
      },
      "source": [
        "How do these proportions compare to the overall opioid prescription rate? Subtract off the proportion of all prescriptions that are opioids from each practice's proportion."
      ]
    },
    {
      "cell_type": "code",
      "metadata": {
        "id": "0NYaBADbKBKF",
        "colab_type": "code",
        "colab": {}
      },
      "source": [
        "relative_opioids_per_practice = opioids_per_practice-overall_is_opioids"
      ],
      "execution_count": 0,
      "outputs": []
    },
    {
      "cell_type": "markdown",
      "metadata": {
        "id": "dTvSMWYCKBKI",
        "colab_type": "text"
      },
      "source": [
        "Now that we know the difference between each practice's opioid prescription rate and the overall rate, we can identify which practices prescribe opioids at above average or below average rates. However, are the differences from the overall rate important or just random deviations? In other words, are the differences from the overall rate big or small?\n",
        "\n",
        "To answer this question we have to quantify the difference we would typically expect between a given practice's opioid prescription rate and the overall rate. This quantity is called the **standard error**, and is related to the **standard deviation**, $\\sigma$. The standard error in this case is\n",
        "\n",
        "$$ \\frac{\\sigma}{\\sqrt{n}} $$\n",
        "\n",
        "where $n$ is the number of prescriptions each practice made. Calculate the standard error for each practice. Then divide `relative_opioids_per_practice` by the standard errors. We'll call the final result `opioid_scores`."
      ]
    },
    {
      "cell_type": "code",
      "metadata": {
        "id": "0AcnVmw_KBKJ",
        "colab_type": "code",
        "outputId": "83b5e539-ec2f-4536-9558-ae0b4340e5ef",
        "colab": {}
      },
      "source": [
        "overall_pres=scripts.groupby('practice')['bnf_code'].count()\n",
        "overall_press_by_practice=pd.DataFrame(overall_pres).rename(columns={'bnf_code':'total_pres'}).reset_index()\n",
        "overall_press_by_practice.head(5)"
      ],
      "execution_count": 0,
      "outputs": [
        {
          "output_type": "execute_result",
          "data": {
            "text/html": [
              "<div>\n",
              "<style>\n",
              "    .dataframe thead tr:only-child th {\n",
              "        text-align: right;\n",
              "    }\n",
              "\n",
              "    .dataframe thead th {\n",
              "        text-align: left;\n",
              "    }\n",
              "\n",
              "    .dataframe tbody tr th {\n",
              "        vertical-align: top;\n",
              "    }\n",
              "</style>\n",
              "<table border=\"1\" class=\"dataframe\">\n",
              "  <thead>\n",
              "    <tr style=\"text-align: right;\">\n",
              "      <th></th>\n",
              "      <th>practice</th>\n",
              "      <th>total_pres</th>\n",
              "    </tr>\n",
              "  </thead>\n",
              "  <tbody>\n",
              "    <tr>\n",
              "      <th>0</th>\n",
              "      <td>A81005</td>\n",
              "      <td>1507</td>\n",
              "    </tr>\n",
              "    <tr>\n",
              "      <th>1</th>\n",
              "      <td>A81007</td>\n",
              "      <td>1454</td>\n",
              "    </tr>\n",
              "    <tr>\n",
              "      <th>2</th>\n",
              "      <td>A81011</td>\n",
              "      <td>1568</td>\n",
              "    </tr>\n",
              "    <tr>\n",
              "      <th>3</th>\n",
              "      <td>A81012</td>\n",
              "      <td>1332</td>\n",
              "    </tr>\n",
              "    <tr>\n",
              "      <th>4</th>\n",
              "      <td>A81017</td>\n",
              "      <td>2150</td>\n",
              "    </tr>\n",
              "  </tbody>\n",
              "</table>\n",
              "</div>"
            ],
            "text/plain": [
              "  practice  total_pres\n",
              "0   A81005        1507\n",
              "1   A81007        1454\n",
              "2   A81011        1568\n",
              "3   A81012        1332\n",
              "4   A81017        2150"
            ]
          },
          "metadata": {
            "tags": []
          },
          "execution_count": 172
        }
      ]
    },
    {
      "cell_type": "code",
      "metadata": {
        "id": "ftMShSIMKBKN",
        "colab_type": "code",
        "outputId": "6f1a73f3-4066-48c3-d8b9-dab360411302",
        "colab": {}
      },
      "source": [
        "new_scripts['is_opioids'].std()"
      ],
      "execution_count": 0,
      "outputs": [
        {
          "output_type": "execute_result",
          "data": {
            "text/plain": [
              "0.18579817605238425"
            ]
          },
          "metadata": {
            "tags": []
          },
          "execution_count": 173
        }
      ]
    },
    {
      "cell_type": "code",
      "metadata": {
        "id": "k_zZGUpnKBKR",
        "colab_type": "code",
        "colab": {}
      },
      "source": [
        "standard_error_per_practice = new_scripts['is_opioids'].std()/np.sqrt(new_scripts.groupby('practice')['is_opioids'].count())\n",
        "opioid_scores = relative_opioids_per_practice/standard_error_per_practice"
      ],
      "execution_count": 0,
      "outputs": []
    },
    {
      "cell_type": "markdown",
      "metadata": {
        "id": "hxWYohUZKBKU",
        "colab_type": "text"
      },
      "source": [
        "The quantity we have calculated in `opioid_scores` is called a **z-score**:\n",
        "\n",
        "$$ \\frac{\\bar{X} - \\mu}{\\sqrt{\\sigma^2/n}} $$\n",
        "\n",
        "Here $\\bar{X}$ corresponds with the proportion for each practice, $\\mu$ corresponds with the proportion across all practices, $\\sigma^2$ corresponds with the variance of the proportion across all practices, and $n$ is the number of prescriptions made by each practice. Notice $\\bar{X}$ and $n$ will be different for each practice, while $\\mu$ and $\\sigma$ are determined across all prescriptions, and so are the same for every z-score. The z-score is a useful statistical tool used for hypothesis testing, finding outliers, and comparing data about different types of objects or events.\n",
        "\n",
        "Now that we've calculated this statistic, take the 100 practices with the largest z-score. Return your result as a list of tuples in the form `(practice_name, z-score, number_of_scripts)`. Sort your tuples by z-score in descending order. Note that some practice codes will correspond with multiple names. In this case, use the first match when sorting names alphabetically."
      ]
    },
    {
      "cell_type": "code",
      "metadata": {
        "id": "lXJCpGHvKBKV",
        "colab_type": "code",
        "outputId": "04cd0bfb-1477-403f-c78d-b4040fcacecd",
        "colab": {}
      },
      "source": [
        "merge_practice=practices.drop(labels=['addr_1','addr_2','borough','village','post_code'], axis=1).rename(columns={'code':'practice'}).sort_values(by=['name','practice']).drop_duplicates(subset=['practice'],keep='first')"
      ],
      "execution_count": 0,
      "outputs": [
        {
          "output_type": "execute_result",
          "data": {
            "text/html": [
              "<div>\n",
              "<style>\n",
              "    .dataframe thead tr:only-child th {\n",
              "        text-align: right;\n",
              "    }\n",
              "\n",
              "    .dataframe thead th {\n",
              "        text-align: left;\n",
              "    }\n",
              "\n",
              "    .dataframe tbody tr th {\n",
              "        vertical-align: top;\n",
              "    }\n",
              "</style>\n",
              "<table border=\"1\" class=\"dataframe\">\n",
              "  <thead>\n",
              "    <tr style=\"text-align: right;\">\n",
              "      <th></th>\n",
              "      <th>practice</th>\n",
              "      <th>name</th>\n",
              "    </tr>\n",
              "  </thead>\n",
              "  <tbody>\n",
              "    <tr>\n",
              "      <th>7012</th>\n",
              "      <td>P87657</td>\n",
              "      <td>(IRLAM) SALFORD CARE CTRS MEDICAL PRACTI</td>\n",
              "    </tr>\n",
              "    <tr>\n",
              "      <th>10922</th>\n",
              "      <td>Y05381</td>\n",
              "      <td>0-19 EAST CHESHIRE HEALTH VISITORS</td>\n",
              "    </tr>\n",
              "    <tr>\n",
              "      <th>11984</th>\n",
              "      <td>Y04082</td>\n",
              "      <td>0-19 PUBLIC HEALTH SERVICE HARTLEPOOL</td>\n",
              "    </tr>\n",
              "    <tr>\n",
              "      <th>7573</th>\n",
              "      <td>Y00364</td>\n",
              "      <td>1 TO 1 CENTRE</td>\n",
              "    </tr>\n",
              "    <tr>\n",
              "      <th>6836</th>\n",
              "      <td>P87652</td>\n",
              "      <td>1/LOWER BROUGHTON MEDICAL PRACTICE</td>\n",
              "    </tr>\n",
              "  </tbody>\n",
              "</table>\n",
              "</div>"
            ],
            "text/plain": [
              "      practice                                      name\n",
              "7012    P87657  (IRLAM) SALFORD CARE CTRS MEDICAL PRACTI\n",
              "10922   Y05381        0-19 EAST CHESHIRE HEALTH VISITORS\n",
              "11984   Y04082     0-19 PUBLIC HEALTH SERVICE HARTLEPOOL\n",
              "7573    Y00364                             1 TO 1 CENTRE\n",
              "6836    P87652        1/LOWER BROUGHTON MEDICAL PRACTICE"
            ]
          },
          "metadata": {
            "tags": []
          },
          "execution_count": 175
        }
      ]
    },
    {
      "cell_type": "code",
      "metadata": {
        "id": "1E1Ib68xKBKX",
        "colab_type": "code",
        "colab": {}
      },
      "source": [
        "ans_df=pd.DataFrame(opioid_scores).reset_index().rename(columns={'is_opioids':'z-score'})"
      ],
      "execution_count": 0,
      "outputs": []
    },
    {
      "cell_type": "code",
      "metadata": {
        "id": "iSvudJJAKBKa",
        "colab_type": "code",
        "outputId": "5c2e03f3-903f-4883-e34a-b2184701f5aa",
        "colab": {}
      },
      "source": [
        "ans_df.head(6)"
      ],
      "execution_count": 0,
      "outputs": [
        {
          "output_type": "execute_result",
          "data": {
            "text/html": [
              "<div>\n",
              "<style>\n",
              "    .dataframe thead tr:only-child th {\n",
              "        text-align: right;\n",
              "    }\n",
              "\n",
              "    .dataframe thead th {\n",
              "        text-align: left;\n",
              "    }\n",
              "\n",
              "    .dataframe tbody tr th {\n",
              "        vertical-align: top;\n",
              "    }\n",
              "</style>\n",
              "<table border=\"1\" class=\"dataframe\">\n",
              "  <thead>\n",
              "    <tr style=\"text-align: right;\">\n",
              "      <th></th>\n",
              "      <th>practice</th>\n",
              "      <th>z-score</th>\n",
              "      <th>name</th>\n",
              "      <th>total_pres</th>\n",
              "    </tr>\n",
              "  </thead>\n",
              "  <tbody>\n",
              "    <tr>\n",
              "      <th>714</th>\n",
              "      <td>Y01852</td>\n",
              "      <td>11.695818</td>\n",
              "      <td>NATIONAL ENHANCED SERVICE</td>\n",
              "      <td>7</td>\n",
              "    </tr>\n",
              "    <tr>\n",
              "      <th>754</th>\n",
              "      <td>Y03006</td>\n",
              "      <td>7.339043</td>\n",
              "      <td>OUTREACH SERVICE NH / RH</td>\n",
              "      <td>2</td>\n",
              "    </tr>\n",
              "    <tr>\n",
              "      <th>772</th>\n",
              "      <td>Y03668</td>\n",
              "      <td>6.150582</td>\n",
              "      <td>BRISDOC HEALTHCARE SERVICES OOH</td>\n",
              "      <td>60</td>\n",
              "    </tr>\n",
              "    <tr>\n",
              "      <th>261</th>\n",
              "      <td>G81703</td>\n",
              "      <td>5.123032</td>\n",
              "      <td>H&amp;R P C SPECIAL SCHEME</td>\n",
              "      <td>36</td>\n",
              "    </tr>\n",
              "    <tr>\n",
              "      <th>819</th>\n",
              "      <td>Y04997</td>\n",
              "      <td>4.958866</td>\n",
              "      <td>HMR BARDOC OOH</td>\n",
              "      <td>321</td>\n",
              "    </tr>\n",
              "    <tr>\n",
              "      <th>799</th>\n",
              "      <td>Y04585</td>\n",
              "      <td>4.888878</td>\n",
              "      <td>INTEGRATED CARE 24 LTD (CWSX OOH)</td>\n",
              "      <td>426</td>\n",
              "    </tr>\n",
              "  </tbody>\n",
              "</table>\n",
              "</div>"
            ],
            "text/plain": [
              "    practice    z-score                               name  total_pres\n",
              "714   Y01852  11.695818          NATIONAL ENHANCED SERVICE           7\n",
              "754   Y03006   7.339043           OUTREACH SERVICE NH / RH           2\n",
              "772   Y03668   6.150582    BRISDOC HEALTHCARE SERVICES OOH          60\n",
              "261   G81703   5.123032             H&R P C SPECIAL SCHEME          36\n",
              "819   Y04997   4.958866                     HMR BARDOC OOH         321\n",
              "799   Y04585   4.888878  INTEGRATED CARE 24 LTD (CWSX OOH)         426"
            ]
          },
          "metadata": {
            "tags": []
          },
          "execution_count": 177
        }
      ]
    },
    {
      "cell_type": "code",
      "metadata": {
        "id": "T3DffQcTKBKd",
        "colab_type": "code",
        "colab": {}
      },
      "source": [
        "ans_df=ans_df[['name','z-score','total_pres']]"
      ],
      "execution_count": 0,
      "outputs": []
    },
    {
      "cell_type": "code",
      "metadata": {
        "id": "m0MN-sEDKBKo",
        "colab_type": "code",
        "outputId": "5409535b-8865-48d8-b90a-e8663698c09f",
        "colab": {}
      },
      "source": [
        "ans_df.head()"
      ],
      "execution_count": 0,
      "outputs": [
        {
          "output_type": "execute_result",
          "data": {
            "text/html": [
              "<div>\n",
              "<style>\n",
              "    .dataframe thead tr:only-child th {\n",
              "        text-align: right;\n",
              "    }\n",
              "\n",
              "    .dataframe thead th {\n",
              "        text-align: left;\n",
              "    }\n",
              "\n",
              "    .dataframe tbody tr th {\n",
              "        vertical-align: top;\n",
              "    }\n",
              "</style>\n",
              "<table border=\"1\" class=\"dataframe\">\n",
              "  <thead>\n",
              "    <tr style=\"text-align: right;\">\n",
              "      <th></th>\n",
              "      <th>name</th>\n",
              "      <th>z-score</th>\n",
              "      <th>total_pres</th>\n",
              "    </tr>\n",
              "  </thead>\n",
              "  <tbody>\n",
              "    <tr>\n",
              "      <th>714</th>\n",
              "      <td>NATIONAL ENHANCED SERVICE</td>\n",
              "      <td>11.695818</td>\n",
              "      <td>7</td>\n",
              "    </tr>\n",
              "    <tr>\n",
              "      <th>754</th>\n",
              "      <td>OUTREACH SERVICE NH / RH</td>\n",
              "      <td>7.339043</td>\n",
              "      <td>2</td>\n",
              "    </tr>\n",
              "    <tr>\n",
              "      <th>772</th>\n",
              "      <td>BRISDOC HEALTHCARE SERVICES OOH</td>\n",
              "      <td>6.150582</td>\n",
              "      <td>60</td>\n",
              "    </tr>\n",
              "    <tr>\n",
              "      <th>261</th>\n",
              "      <td>H&amp;R P C SPECIAL SCHEME</td>\n",
              "      <td>5.123032</td>\n",
              "      <td>36</td>\n",
              "    </tr>\n",
              "    <tr>\n",
              "      <th>819</th>\n",
              "      <td>HMR BARDOC OOH</td>\n",
              "      <td>4.958866</td>\n",
              "      <td>321</td>\n",
              "    </tr>\n",
              "  </tbody>\n",
              "</table>\n",
              "</div>"
            ],
            "text/plain": [
              "                                name    z-score  total_pres\n",
              "714        NATIONAL ENHANCED SERVICE  11.695818           7\n",
              "754         OUTREACH SERVICE NH / RH   7.339043           2\n",
              "772  BRISDOC HEALTHCARE SERVICES OOH   6.150582          60\n",
              "261           H&R P C SPECIAL SCHEME   5.123032          36\n",
              "819                   HMR BARDOC OOH   4.958866         321"
            ]
          },
          "metadata": {
            "tags": []
          },
          "execution_count": 179
        }
      ]
    },
    {
      "cell_type": "code",
      "metadata": {
        "id": "QCagu66XKBKr",
        "colab_type": "code",
        "colab": {}
      },
      "source": [
        "unique_practices = pd.DataFrame(opioid_scores).reset_index().rename(columns={'is_opioids':'z-score'}).merge(merge_practice, on='practice').merge(overall_press_by_practice,on='practice').sort_values(by=['z-score','name'],ascending=False).drop_duplicates(subset='practice', keep='first')\n",
        "anomalies = list(unique_practices[['name','z-score','total_pres']].itertuples(index=False))[:100]"
      ],
      "execution_count": 0,
      "outputs": []
    },
    {
      "cell_type": "code",
      "metadata": {
        "id": "bxletjATKBK5",
        "colab_type": "code",
        "outputId": "b6932053-9ebb-469b-dded-2992b8292413",
        "colab": {}
      },
      "source": [
        "grader.score.dw__script_anomalies(anomalies)"
      ],
      "execution_count": 0,
      "outputs": [
        {
          "output_type": "stream",
          "text": [
            "==================\n",
            "Your score:  1.0\n",
            "==================\n"
          ],
          "name": "stdout"
        }
      ]
    },
    {
      "cell_type": "markdown",
      "metadata": {
        "id": "7akWV3rZKBK9",
        "colab_type": "text"
      },
      "source": [
        "## Question 5: script_growth\n",
        "\n",
        "Another way to identify anomalies is by comparing current data to historical data. In the case of identifying sites of drug abuse, we might compare a practice's current rate of opioid prescription to their rate 5 or 10 years ago. Unless the nature of the practice has changed, the profile of drugs they prescribe should be relatively stable. We might also want to identify trends through time for business reasons, identifying drugs that are gaining market share. That's what we'll do in this question.\n",
        "\n",
        "We'll load in beneficiary data from 6 months earlier, June 2016, and calculate the percent growth in prescription rate from June 2016 to January 2017 for each `bnf_name`. We'll return the 50 items with largest growth and the 50 items with the largest shrinkage (i.e. negative percent growth) as a list of tuples sorted by growth rate in descending order in the format `(script_name, growth_rate, raw_2016_count)`. You'll notice that many of the 50 fastest growing items have low counts of prescriptions in 2016. Filter out any items that were prescribed less than 50 times."
      ]
    },
    {
      "cell_type": "code",
      "metadata": {
        "id": "tMeQnXZHKBK-",
        "colab_type": "code",
        "outputId": "4f705ade-ce0b-4ef4-cfec-c2f0ddf574f1",
        "colab": {}
      },
      "source": [
        "with gzip.open('./dw-data/201606scripts_sample.csv.gz','r') as f2016:\n",
        "    scripts16=pd.read_csv(f2016)\n",
        "scripts16.head()"
      ],
      "execution_count": 0,
      "outputs": [
        {
          "output_type": "execute_result",
          "data": {
            "text/html": [
              "<div>\n",
              "<style>\n",
              "    .dataframe thead tr:only-child th {\n",
              "        text-align: right;\n",
              "    }\n",
              "\n",
              "    .dataframe thead th {\n",
              "        text-align: left;\n",
              "    }\n",
              "\n",
              "    .dataframe tbody tr th {\n",
              "        vertical-align: top;\n",
              "    }\n",
              "</style>\n",
              "<table border=\"1\" class=\"dataframe\">\n",
              "  <thead>\n",
              "    <tr style=\"text-align: right;\">\n",
              "      <th></th>\n",
              "      <th>practice</th>\n",
              "      <th>bnf_code</th>\n",
              "      <th>bnf_name</th>\n",
              "      <th>items</th>\n",
              "      <th>nic</th>\n",
              "      <th>act_cost</th>\n",
              "      <th>quantity</th>\n",
              "    </tr>\n",
              "  </thead>\n",
              "  <tbody>\n",
              "    <tr>\n",
              "      <th>0</th>\n",
              "      <td>N85638</td>\n",
              "      <td>0301011R0</td>\n",
              "      <td>Salamol_Inha 100mcg (200 D) CFF (Teva)</td>\n",
              "      <td>2</td>\n",
              "      <td>2.92</td>\n",
              "      <td>2.73</td>\n",
              "      <td>2</td>\n",
              "    </tr>\n",
              "    <tr>\n",
              "      <th>1</th>\n",
              "      <td>N85638</td>\n",
              "      <td>0301011R0</td>\n",
              "      <td>Easyhaler_Salbutamol Sulf 200mcg (200D)</td>\n",
              "      <td>1</td>\n",
              "      <td>6.63</td>\n",
              "      <td>6.15</td>\n",
              "      <td>1</td>\n",
              "    </tr>\n",
              "    <tr>\n",
              "      <th>2</th>\n",
              "      <td>N85638</td>\n",
              "      <td>0301020I0</td>\n",
              "      <td>Ipratrop Brom_Inh Soln 500mcg/2ml Ud</td>\n",
              "      <td>1</td>\n",
              "      <td>1.77</td>\n",
              "      <td>1.75</td>\n",
              "      <td>12</td>\n",
              "    </tr>\n",
              "    <tr>\n",
              "      <th>3</th>\n",
              "      <td>N85638</td>\n",
              "      <td>0301020I0</td>\n",
              "      <td>Ipratrop Brom_Inh Soln 250mcg/1ml Ud</td>\n",
              "      <td>1</td>\n",
              "      <td>4.47</td>\n",
              "      <td>4.15</td>\n",
              "      <td>20</td>\n",
              "    </tr>\n",
              "    <tr>\n",
              "      <th>4</th>\n",
              "      <td>N85638</td>\n",
              "      <td>0302000C0</td>\n",
              "      <td>Clenil Modulite_Inha 50mcg (200D)</td>\n",
              "      <td>1</td>\n",
              "      <td>3.70</td>\n",
              "      <td>3.44</td>\n",
              "      <td>1</td>\n",
              "    </tr>\n",
              "  </tbody>\n",
              "</table>\n",
              "</div>"
            ],
            "text/plain": [
              "  practice   bnf_code                                 bnf_name  items   nic  \\\n",
              "0   N85638  0301011R0   Salamol_Inha 100mcg (200 D) CFF (Teva)      2  2.92   \n",
              "1   N85638  0301011R0  Easyhaler_Salbutamol Sulf 200mcg (200D)      1  6.63   \n",
              "2   N85638  0301020I0     Ipratrop Brom_Inh Soln 500mcg/2ml Ud      1  1.77   \n",
              "3   N85638  0301020I0     Ipratrop Brom_Inh Soln 250mcg/1ml Ud      1  4.47   \n",
              "4   N85638  0302000C0        Clenil Modulite_Inha 50mcg (200D)      1  3.70   \n",
              "\n",
              "   act_cost  quantity  \n",
              "0      2.73         2  \n",
              "1      6.15         1  \n",
              "2      1.75        12  \n",
              "3      4.15        20  \n",
              "4      3.44         1  "
            ]
          },
          "metadata": {
            "tags": []
          },
          "execution_count": 189
        }
      ]
    },
    {
      "cell_type": "code",
      "metadata": {
        "id": "6gJLE7TVKBLC",
        "colab_type": "code",
        "colab": {}
      },
      "source": [
        "script16_grouped=pd.DataFrame(scripts16.groupby('bnf_name')['items'].count()).reset_index()\n",
        "script16_grouped['del']=script16_grouped['items']<50\n",
        "script16_grouped=script16_grouped[~script16_grouped['del']].drop(labels='del',axis=1)"
      ],
      "execution_count": 0,
      "outputs": []
    },
    {
      "cell_type": "code",
      "metadata": {
        "id": "ujmfRvBqKBLG",
        "colab_type": "code",
        "colab": {}
      },
      "source": [
        "script17_grouped=pd.DataFrame(scripts.groupby('bnf_name')['items'].count()).reset_index()\n",
        "#script17_grouped['del']=script17_grouped['items']<50\n",
        "#script17_grouped=script17_grouped[~script17_grouped['del']].drop(labels='del',axis=1)"
      ],
      "execution_count": 0,
      "outputs": []
    },
    {
      "cell_type": "code",
      "metadata": {
        "id": "YoIKpSbXKBLI",
        "colab_type": "code",
        "colab": {}
      },
      "source": [
        "merged=script16_grouped.merge(script17_grouped, on='bnf_name')\n",
        "merged['growth']=(merged['items_y']-merged['items_x'])/merged['items_x']\n",
        "merged.sort_values(by=['growth'],ascending=False, inplace=True)\n",
        "merged.reset_index(inplace=True)\n",
        "merged.drop(labels='index',axis=1,inplace=True)"
      ],
      "execution_count": 0,
      "outputs": []
    },
    {
      "cell_type": "code",
      "metadata": {
        "id": "8K4vwDA3KBLL",
        "colab_type": "code",
        "colab": {}
      },
      "source": [
        "script_growth=list(merged[['bnf_name','growth','items_x']].itertuples(index=False))[:50]+list(merged[['bnf_name','growth','items_x']].itertuples(index=False))[::-1][:50][::-1]"
      ],
      "execution_count": 0,
      "outputs": []
    },
    {
      "cell_type": "code",
      "metadata": {
        "id": "CtRuVZcJKBLN",
        "colab_type": "code",
        "outputId": "04b39af1-4909-459f-cb6a-0f79bd2cb26f",
        "colab": {}
      },
      "source": [
        "grader.score.dw__script_growth(script_growth)"
      ],
      "execution_count": 0,
      "outputs": [
        {
          "output_type": "stream",
          "text": [
            "==================\n",
            "Your score:  1.0\n",
            "==================\n"
          ],
          "name": "stdout"
        }
      ]
    },
    {
      "cell_type": "markdown",
      "metadata": {
        "id": "_3Fx-c6HKBLU",
        "colab_type": "text"
      },
      "source": [
        "## Question 6: rare_scripts\n",
        "\n",
        "Does a practice's prescription costs originate from routine care or from reliance on rarely prescribed treatments? Commonplace treatments can carry lower costs than rare treatments because of efficiencies in large-scale production. While some specialist practices can't help but avoid prescribing rare medicines because there are no alternatives, some practices may be prescribing a unnecessary amount of brand-name products when generics are available. Let's identify practices whose costs disproportionately originate from rarely prescribed items.\n",
        "\n",
        "First we have to identify which `'bnf_code'` are rare. To do this, find the probability $p$ of a prescription having a particular `'bnf_code'` if the `'bnf_code'` was randomly chosen from the unique options in the beneficiary data. We will call a `'bnf_code'` rare if it is prescribed at a rate less than $0.1p$."
      ]
    },
    {
      "cell_type": "code",
      "metadata": {
        "id": "BhfGzgv1KBLW",
        "colab_type": "code",
        "colab": {}
      },
      "source": [
        "p = 1/(scripts['bnf_code'].nunique())\n",
        "rates = pd.DataFrame(scripts.groupby('bnf_code')['bnf_name'].count()/scripts['bnf_name'].count()).reset_index()\n",
        "rates.rename(index=str, columns={'bnf_name':'rate'},inplace=True)\n",
        "rates['is_rare'] = rates['rate']<0.1*p"
      ],
      "execution_count": 0,
      "outputs": []
    },
    {
      "cell_type": "code",
      "metadata": {
        "id": "KyWt56JaKBLa",
        "colab_type": "code",
        "colab": {}
      },
      "source": [
        "merged_scripts=scripts.merge(rates, on='bnf_code')\n"
      ],
      "execution_count": 0,
      "outputs": []
    },
    {
      "cell_type": "code",
      "metadata": {
        "id": "z2IV-2YEKBLd",
        "colab_type": "code",
        "outputId": "bf277bb8-d264-4774-bba3-7d891eda05c4",
        "colab": {}
      },
      "source": [
        "merged_scripts[merged_scripts['is_rare']].nunique()"
      ],
      "execution_count": 0,
      "outputs": [
        {
          "output_type": "execute_result",
          "data": {
            "text/plain": [
              "practice     766\n",
              "bnf_code     844\n",
              "bnf_name    2237\n",
              "items         35\n",
              "nic         4087\n",
              "act_cost    4747\n",
              "quantity     309\n",
              "rate          49\n",
              "is_rare        1\n",
              "dtype: int64"
            ]
          },
          "metadata": {
            "tags": []
          },
          "execution_count": 249
        }
      ]
    },
    {
      "cell_type": "code",
      "metadata": {
        "id": "eFjTNe2GKBLg",
        "colab_type": "code",
        "outputId": "b1d8aa85-a0cf-4126-943d-92c3e98d283f",
        "colab": {}
      },
      "source": [
        "scripts.head(2)"
      ],
      "execution_count": 0,
      "outputs": [
        {
          "output_type": "execute_result",
          "data": {
            "text/html": [
              "<div>\n",
              "<style>\n",
              "    .dataframe thead tr:only-child th {\n",
              "        text-align: right;\n",
              "    }\n",
              "\n",
              "    .dataframe thead th {\n",
              "        text-align: left;\n",
              "    }\n",
              "\n",
              "    .dataframe tbody tr th {\n",
              "        vertical-align: top;\n",
              "    }\n",
              "</style>\n",
              "<table border=\"1\" class=\"dataframe\">\n",
              "  <thead>\n",
              "    <tr style=\"text-align: right;\">\n",
              "      <th></th>\n",
              "      <th>practice</th>\n",
              "      <th>bnf_code</th>\n",
              "      <th>bnf_name</th>\n",
              "      <th>items</th>\n",
              "      <th>nic</th>\n",
              "      <th>act_cost</th>\n",
              "      <th>quantity</th>\n",
              "    </tr>\n",
              "  </thead>\n",
              "  <tbody>\n",
              "    <tr>\n",
              "      <th>0</th>\n",
              "      <td>N85639</td>\n",
              "      <td>0106020C0</td>\n",
              "      <td>Bisacodyl_Tab E/C 5mg</td>\n",
              "      <td>1</td>\n",
              "      <td>0.39</td>\n",
              "      <td>0.47</td>\n",
              "      <td>12</td>\n",
              "    </tr>\n",
              "    <tr>\n",
              "      <th>1</th>\n",
              "      <td>N85639</td>\n",
              "      <td>0106040M0</td>\n",
              "      <td>Movicol Plain_Paed Pdr Sach 6.9g</td>\n",
              "      <td>1</td>\n",
              "      <td>4.38</td>\n",
              "      <td>4.07</td>\n",
              "      <td>30</td>\n",
              "    </tr>\n",
              "  </tbody>\n",
              "</table>\n",
              "</div>"
            ],
            "text/plain": [
              "  practice   bnf_code                          bnf_name  items   nic  \\\n",
              "0   N85639  0106020C0             Bisacodyl_Tab E/C 5mg      1  0.39   \n",
              "1   N85639  0106040M0  Movicol Plain_Paed Pdr Sach 6.9g      1  4.38   \n",
              "\n",
              "   act_cost  quantity  \n",
              "0      0.47        12  \n",
              "1      4.07        30  "
            ]
          },
          "metadata": {
            "tags": []
          },
          "execution_count": 250
        }
      ]
    },
    {
      "cell_type": "code",
      "metadata": {
        "id": "Ss5X57VMKBLm",
        "colab_type": "code",
        "outputId": "c9cf0ecf-5ddc-4731-cf87-db7099fab216",
        "colab": {}
      },
      "source": [
        "rates.head(2)"
      ],
      "execution_count": 0,
      "outputs": [
        {
          "output_type": "execute_result",
          "data": {
            "text/html": [
              "<div>\n",
              "<style>\n",
              "    .dataframe thead tr:only-child th {\n",
              "        text-align: right;\n",
              "    }\n",
              "\n",
              "    .dataframe thead th {\n",
              "        text-align: left;\n",
              "    }\n",
              "\n",
              "    .dataframe tbody tr th {\n",
              "        vertical-align: top;\n",
              "    }\n",
              "</style>\n",
              "<table border=\"1\" class=\"dataframe\">\n",
              "  <thead>\n",
              "    <tr style=\"text-align: right;\">\n",
              "      <th></th>\n",
              "      <th>bnf_code</th>\n",
              "      <th>rate</th>\n",
              "      <th>is_rare</th>\n",
              "    </tr>\n",
              "  </thead>\n",
              "  <tbody>\n",
              "    <tr>\n",
              "      <th>0</th>\n",
              "      <td>0101010C0</td>\n",
              "      <td>0.000035</td>\n",
              "      <td>True</td>\n",
              "    </tr>\n",
              "    <tr>\n",
              "      <th>1</th>\n",
              "      <td>0101010F0</td>\n",
              "      <td>0.000002</td>\n",
              "      <td>True</td>\n",
              "    </tr>\n",
              "  </tbody>\n",
              "</table>\n",
              "</div>"
            ],
            "text/plain": [
              "    bnf_code      rate  is_rare\n",
              "0  0101010C0  0.000035     True\n",
              "1  0101010F0  0.000002     True"
            ]
          },
          "metadata": {
            "tags": []
          },
          "execution_count": 251
        }
      ]
    },
    {
      "cell_type": "code",
      "metadata": {
        "id": "QoDYYtSwKBLp",
        "colab_type": "code",
        "outputId": "cf28e06b-0209-42fe-f829-c016914d71d6",
        "colab": {}
      },
      "source": [
        "merged_scripts.head(2)"
      ],
      "execution_count": 0,
      "outputs": [
        {
          "output_type": "execute_result",
          "data": {
            "text/html": [
              "<div>\n",
              "<style>\n",
              "    .dataframe thead tr:only-child th {\n",
              "        text-align: right;\n",
              "    }\n",
              "\n",
              "    .dataframe thead th {\n",
              "        text-align: left;\n",
              "    }\n",
              "\n",
              "    .dataframe tbody tr th {\n",
              "        vertical-align: top;\n",
              "    }\n",
              "</style>\n",
              "<table border=\"1\" class=\"dataframe\">\n",
              "  <thead>\n",
              "    <tr style=\"text-align: right;\">\n",
              "      <th></th>\n",
              "      <th>practice</th>\n",
              "      <th>bnf_code</th>\n",
              "      <th>bnf_name</th>\n",
              "      <th>items</th>\n",
              "      <th>nic</th>\n",
              "      <th>act_cost</th>\n",
              "      <th>quantity</th>\n",
              "      <th>rate</th>\n",
              "      <th>is_rare</th>\n",
              "    </tr>\n",
              "  </thead>\n",
              "  <tbody>\n",
              "    <tr>\n",
              "      <th>0</th>\n",
              "      <td>N85639</td>\n",
              "      <td>0106020C0</td>\n",
              "      <td>Bisacodyl_Tab E/C 5mg</td>\n",
              "      <td>1</td>\n",
              "      <td>0.39</td>\n",
              "      <td>0.47</td>\n",
              "      <td>12</td>\n",
              "      <td>0.001064</td>\n",
              "      <td>False</td>\n",
              "    </tr>\n",
              "    <tr>\n",
              "      <th>1</th>\n",
              "      <td>N81013</td>\n",
              "      <td>0106020C0</td>\n",
              "      <td>Bisacodyl_Tab E/C 5mg</td>\n",
              "      <td>19</td>\n",
              "      <td>28.10</td>\n",
              "      <td>28.14</td>\n",
              "      <td>860</td>\n",
              "      <td>0.001064</td>\n",
              "      <td>False</td>\n",
              "    </tr>\n",
              "  </tbody>\n",
              "</table>\n",
              "</div>"
            ],
            "text/plain": [
              "  practice   bnf_code               bnf_name  items    nic  act_cost  \\\n",
              "0   N85639  0106020C0  Bisacodyl_Tab E/C 5mg      1   0.39      0.47   \n",
              "1   N81013  0106020C0  Bisacodyl_Tab E/C 5mg     19  28.10     28.14   \n",
              "\n",
              "   quantity      rate  is_rare  \n",
              "0        12  0.001064    False  \n",
              "1       860  0.001064    False  "
            ]
          },
          "metadata": {
            "tags": []
          },
          "execution_count": 252
        }
      ]
    },
    {
      "cell_type": "markdown",
      "metadata": {
        "id": "_FWIj7l6KBLs",
        "colab_type": "text"
      },
      "source": [
        "Now for each practice, calculate the proportion of costs that originate from prescription of rare treatments (i.e. rare `'bnf_code'`). Use the `'act_cost'` field for this calculation."
      ]
    },
    {
      "cell_type": "code",
      "metadata": {
        "id": "8rKi7acNKBLs",
        "colab_type": "code",
        "outputId": "7c82a6e3-2168-4506-af9c-b1c7ad91daa4",
        "colab": {}
      },
      "source": [
        "total_act=merged_scripts.groupby('practice')['act_cost'].sum()\n",
        "rare_act=merged_scripts.groupby(['practice','is_rare'])['act_cost'].agg({'rare_cost':'sum'})\n",
        "rare_act.reset_index(inplace=True)\n",
        "rare_act=rare_act[rare_act['is_rare']].set_index('practice')"
      ],
      "execution_count": 0,
      "outputs": [
        {
          "output_type": "stream",
          "text": [
            "/opt/conda/lib/python3.6/site-packages/ipykernel_launcher.py:2: FutureWarning: using a dict on a Series for aggregation\n",
            "is deprecated and will be removed in a future version\n",
            "  \n"
          ],
          "name": "stderr"
        }
      ]
    },
    {
      "cell_type": "code",
      "metadata": {
        "id": "g4RpGfdsKBLv",
        "colab_type": "code",
        "colab": {}
      },
      "source": [
        "rare_cost_prop=rare_act.join(total_act).drop(labels='is_rare', axis=1)\n",
        "rare_cost_prop['rare_cost_prop']=rare_cost_prop['rare_cost']/rare_cost_prop['act_cost']"
      ],
      "execution_count": 0,
      "outputs": []
    },
    {
      "cell_type": "code",
      "metadata": {
        "id": "I_9QlEBoKBLy",
        "colab_type": "code",
        "outputId": "1a725eb0-15d4-41e3-cfcd-d6d7690eac2d",
        "colab": {}
      },
      "source": [
        "rare_cost_prop.head()"
      ],
      "execution_count": 0,
      "outputs": [
        {
          "output_type": "execute_result",
          "data": {
            "text/html": [
              "<div>\n",
              "<style>\n",
              "    .dataframe thead tr:only-child th {\n",
              "        text-align: right;\n",
              "    }\n",
              "\n",
              "    .dataframe thead th {\n",
              "        text-align: left;\n",
              "    }\n",
              "\n",
              "    .dataframe tbody tr th {\n",
              "        vertical-align: top;\n",
              "    }\n",
              "</style>\n",
              "<table border=\"1\" class=\"dataframe\">\n",
              "  <thead>\n",
              "    <tr style=\"text-align: right;\">\n",
              "      <th></th>\n",
              "      <th>rare_cost</th>\n",
              "      <th>act_cost</th>\n",
              "      <th>rare_cost_prop</th>\n",
              "    </tr>\n",
              "    <tr>\n",
              "      <th>practice</th>\n",
              "      <th></th>\n",
              "      <th></th>\n",
              "      <th></th>\n",
              "    </tr>\n",
              "  </thead>\n",
              "  <tbody>\n",
              "    <tr>\n",
              "      <th>A81005</th>\n",
              "      <td>1247.83</td>\n",
              "      <td>103840.82</td>\n",
              "      <td>0.012017</td>\n",
              "    </tr>\n",
              "    <tr>\n",
              "      <th>A81007</th>\n",
              "      <td>951.06</td>\n",
              "      <td>113482.49</td>\n",
              "      <td>0.008381</td>\n",
              "    </tr>\n",
              "    <tr>\n",
              "      <th>A81011</th>\n",
              "      <td>816.02</td>\n",
              "      <td>159507.03</td>\n",
              "      <td>0.005116</td>\n",
              "    </tr>\n",
              "    <tr>\n",
              "      <th>A81012</th>\n",
              "      <td>1145.11</td>\n",
              "      <td>83296.81</td>\n",
              "      <td>0.013747</td>\n",
              "    </tr>\n",
              "    <tr>\n",
              "      <th>A81017</th>\n",
              "      <td>1712.15</td>\n",
              "      <td>232656.17</td>\n",
              "      <td>0.007359</td>\n",
              "    </tr>\n",
              "  </tbody>\n",
              "</table>\n",
              "</div>"
            ],
            "text/plain": [
              "          rare_cost   act_cost  rare_cost_prop\n",
              "practice                                      \n",
              "A81005      1247.83  103840.82        0.012017\n",
              "A81007       951.06  113482.49        0.008381\n",
              "A81011       816.02  159507.03        0.005116\n",
              "A81012      1145.11   83296.81        0.013747\n",
              "A81017      1712.15  232656.17        0.007359"
            ]
          },
          "metadata": {
            "tags": []
          },
          "execution_count": 255
        }
      ]
    },
    {
      "cell_type": "markdown",
      "metadata": {
        "id": "WjXpYQK6KBL3",
        "colab_type": "text"
      },
      "source": [
        "Now we will calculate a z-score for each practice based on this proportion.\n",
        "First take the difference of `rare_cost_prop` and the proportion of costs originating from rare treatments across all practices."
      ]
    },
    {
      "cell_type": "code",
      "metadata": {
        "id": "WBVYZv3NKBL4",
        "colab_type": "code",
        "colab": {}
      },
      "source": [
        "rare_cost_prop['all_prac_prop']=rare_cost_prop['rare_cost'].sum()/rare_cost_prop['act_cost'].sum()"
      ],
      "execution_count": 0,
      "outputs": []
    },
    {
      "cell_type": "code",
      "metadata": {
        "id": "MVFo9d2JKBL7",
        "colab_type": "code",
        "colab": {}
      },
      "source": [
        "rare_cost_prop['prop_diff']=rare_cost_prop['rare_cost_prop']-rare_cost_prop['all_prac_prop']"
      ],
      "execution_count": 0,
      "outputs": []
    },
    {
      "cell_type": "markdown",
      "metadata": {
        "id": "K8WbWN-SKBL_",
        "colab_type": "text"
      },
      "source": [
        "Now we will estimate the standard errors (i.e. the denominator of the z-score) by simply taking the standard deviation of this difference."
      ]
    },
    {
      "cell_type": "code",
      "metadata": {
        "id": "nujLxt7dKBMA",
        "colab_type": "code",
        "colab": {}
      },
      "source": [
        "standard_errors = rare_cost_prop['prop_diff'].std()"
      ],
      "execution_count": 0,
      "outputs": []
    },
    {
      "cell_type": "markdown",
      "metadata": {
        "id": "zGKgHyxyKBME",
        "colab_type": "text"
      },
      "source": [
        "Finally compute the z-scores. Return the practices with the top 100 z-scores in the form `(post_code, practice_name, z-score)`. Note that some practice codes will correspond with multiple names. In this case, use the first match when sorting names alphabetically."
      ]
    },
    {
      "cell_type": "code",
      "metadata": {
        "id": "baw9xnYPKBMF",
        "colab_type": "code",
        "colab": {}
      },
      "source": [
        "rare_cost_prop['z-score']=rare_cost_prop['prop_diff']/standard_errors"
      ],
      "execution_count": 0,
      "outputs": []
    },
    {
      "cell_type": "code",
      "metadata": {
        "id": "Tn2X8RwLKBMI",
        "colab_type": "code",
        "colab": {}
      },
      "source": [
        "rare_cost_prop.sort_values(by='z-score',ascending=False, inplace=True)"
      ],
      "execution_count": 0,
      "outputs": []
    },
    {
      "cell_type": "code",
      "metadata": {
        "id": "SDR0pIPfKBMK",
        "colab_type": "code",
        "colab": {}
      },
      "source": [
        "merge_practice=practices.drop(labels=['addr_1','addr_2','borough','village','post_code'], axis=1).rename(columns={'code':'practice'}).sort_values(by=['name','practice']).drop_duplicates(subset=['practice'],keep='first')"
      ],
      "execution_count": 0,
      "outputs": []
    },
    {
      "cell_type": "code",
      "metadata": {
        "id": "rbiQNaxfKBMQ",
        "colab_type": "code",
        "colab": {}
      },
      "source": [
        "rare_cost_prop=rare_cost_prop.reset_index().merge(merge_practice,on='practice').sort_values(by='z-score',ascending=False)"
      ],
      "execution_count": 0,
      "outputs": []
    },
    {
      "cell_type": "code",
      "metadata": {
        "id": "FZuf7eHxKBMT",
        "colab_type": "code",
        "colab": {}
      },
      "source": [
        "rare_scripts = list(rare_cost_prop[['practice','name','z-score']].itertuples(index=False))[:100]"
      ],
      "execution_count": 0,
      "outputs": []
    },
    {
      "cell_type": "code",
      "metadata": {
        "id": "sDzrqpjvKBMW",
        "colab_type": "code",
        "outputId": "b36bf436-dbbd-4a1d-9fe1-8bc886bf9bbe",
        "colab": {}
      },
      "source": [
        "grader.score.dw__rare_scripts(rare_scripts)"
      ],
      "execution_count": 0,
      "outputs": [
        {
          "output_type": "stream",
          "text": [
            "==================\n",
            "Your score:  1.0\n",
            "==================\n"
          ],
          "name": "stdout"
        }
      ]
    },
    {
      "cell_type": "markdown",
      "metadata": {
        "id": "TiShdzAdKBMY",
        "colab_type": "text"
      },
      "source": [
        "*Copyright &copy; 2019 The Data Incubator.  All rights reserved.*"
      ]
    }
  ]
}